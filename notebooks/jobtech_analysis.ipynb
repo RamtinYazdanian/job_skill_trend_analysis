{
 "cells": [
  {
   "cell_type": "code",
   "execution_count": 39,
   "metadata": {},
   "outputs": [
    {
     "name": "stdout",
     "output_type": "stream",
     "text": [
      "The autoreload extension is already loaded. To reload it, use:\n",
      "  %reload_ext autoreload\n"
     ]
    }
   ],
   "source": [
    "import numpy as np\n",
    "import pandas as pd\n",
    "import os\n",
    "import pickle\n",
    "import sys\n",
    "from datetime import datetime\n",
    "import matplotlib.pyplot as plt\n",
    "from sklearn.linear_model import LinearRegression, Ridge\n",
    "from sklearn.preprocessing import PolynomialFeatures\n",
    "sys.path.append('/Users/ramtinyazdanian/PycharmProjects/job_skill_trend_analysis/')\n",
    "from utilities.common_utils import *\n",
    "from utilities.analysis_utils import *\n",
    "from utilities.pandas_utils import *\n",
    "%matplotlib inline\n",
    "%load_ext autoreload\n",
    "%autoreload 2\n",
    "from scipy.stats import shapiro, anderson, probplot\n",
    "from scipy import stats"
   ]
  },
  {
   "cell_type": "code",
   "execution_count": 2,
   "metadata": {},
   "outputs": [],
   "source": [
    "root_data_path = '/Users/ramtinyazdanian/Downloads/jobtech/'\n",
    "all_filenames = os.listdir(root_data_path)\n",
    "all_dataframes = [pd.read_csv(os.path.join(root_data_path,filename)) \n",
    "                  for filename in all_filenames if filename[-3:] == 'csv' and filename[0] != '~']"
   ]
  },
  {
   "cell_type": "code",
   "execution_count": 3,
   "metadata": {},
   "outputs": [],
   "source": [
    "df_all = pd.concat(all_dataframes)"
   ]
  },
  {
   "cell_type": "code",
   "execution_count": 4,
   "metadata": {},
   "outputs": [
    {
     "data": {
      "text/html": [
       "<div>\n",
       "<style scoped>\n",
       "    .dataframe tbody tr th:only-of-type {\n",
       "        vertical-align: middle;\n",
       "    }\n",
       "\n",
       "    .dataframe tbody tr th {\n",
       "        vertical-align: top;\n",
       "    }\n",
       "\n",
       "    .dataframe thead th {\n",
       "        text-align: right;\n",
       "    }\n",
       "</style>\n",
       "<table border=\"1\" class=\"dataframe\">\n",
       "  <thead>\n",
       "    <tr style=\"text-align: right;\">\n",
       "      <th></th>\n",
       "      <th>jobId</th>\n",
       "      <th>jobUrl</th>\n",
       "      <th>jobTitle</th>\n",
       "      <th>jobDescription</th>\n",
       "      <th>datePosted</th>\n",
       "      <th>companyId</th>\n",
       "      <th>companyName</th>\n",
       "      <th>industryId</th>\n",
       "      <th>yoxMin</th>\n",
       "      <th>yoxMax</th>\n",
       "      <th>finalWageMin</th>\n",
       "      <th>finalWageMax</th>\n",
       "      <th>countryCode</th>\n",
       "      <th>skills</th>\n",
       "      <th>qualifications</th>\n",
       "    </tr>\n",
       "  </thead>\n",
       "  <tbody>\n",
       "    <tr>\n",
       "      <td>0</td>\n",
       "      <td>0023502d439415ad8bbdb62a7020114c0e67ed5824e0b6...</td>\n",
       "      <td>https://sg.jobsdb.com/job/rd/adbd75e33b3a1415d...</td>\n",
       "      <td>Admin &amp; Accounts Executive</td>\n",
       "      <td>Roles &amp;amp; ResponsibilitiesJob Description&lt;br...</td>\n",
       "      <td>2020-01-01</td>\n",
       "      <td>4a536df3d73f2123c14b4a1d5fa6b8ecfd9352b3c390f1...</td>\n",
       "      <td>MILWORKS SOLUTIONS PTE. LTD.</td>\n",
       "      <td>InfoComm Technologies</td>\n",
       "      <td>0</td>\n",
       "      <td>0</td>\n",
       "      <td>1150.0</td>\n",
       "      <td>1917.0</td>\n",
       "      <td>SG</td>\n",
       "      <td>[{'skill': 'accounts payable accounting', 'ski...</td>\n",
       "      <td>['Bachelors']</td>\n",
       "    </tr>\n",
       "    <tr>\n",
       "      <td>1</td>\n",
       "      <td>0053799fde5277b3ee431bb57f0820ef01a4c6abf7246d...</td>\n",
       "      <td>https://sg.jobsdb.com/job/rd/adbd75e33b3a1415d...</td>\n",
       "      <td>Admin &amp; Accounts Executive</td>\n",
       "      <td>Roles &amp;amp; ResponsibilitiesJob Description&lt;br...</td>\n",
       "      <td>2020-01-01</td>\n",
       "      <td>4a536df3d73f2123c14b4a1d5fa6b8ecfd9352b3c390f1...</td>\n",
       "      <td>MILWORKS SOLUTIONS PTE. LTD.</td>\n",
       "      <td>InfoComm Technologies</td>\n",
       "      <td>0</td>\n",
       "      <td>0</td>\n",
       "      <td>1150.0</td>\n",
       "      <td>1917.0</td>\n",
       "      <td>SG</td>\n",
       "      <td>[{'skill': 'accounts payable accounting', 'ski...</td>\n",
       "      <td>['Bachelors']</td>\n",
       "    </tr>\n",
       "    <tr>\n",
       "      <td>2</td>\n",
       "      <td>009bd6514108fed114208aa85c28a2c318291978e301ee...</td>\n",
       "      <td>https://sg.jobsdb.com/job/rd/adbd75e33b3a1415d...</td>\n",
       "      <td>Admin &amp; Accounts Executive</td>\n",
       "      <td>Roles &amp;amp; ResponsibilitiesJob Description&lt;br...</td>\n",
       "      <td>2020-01-01</td>\n",
       "      <td>4a536df3d73f2123c14b4a1d5fa6b8ecfd9352b3c390f1...</td>\n",
       "      <td>MILWORKS SOLUTIONS PTE. LTD.</td>\n",
       "      <td>InfoComm Technologies</td>\n",
       "      <td>0</td>\n",
       "      <td>0</td>\n",
       "      <td>1150.0</td>\n",
       "      <td>1917.0</td>\n",
       "      <td>SG</td>\n",
       "      <td>[{'skill': 'accounts payable accounting', 'ski...</td>\n",
       "      <td>['Bachelors']</td>\n",
       "    </tr>\n",
       "    <tr>\n",
       "      <td>3</td>\n",
       "      <td>00edb53a28e215cfb3f8d90594fac0872919bba772d842...</td>\n",
       "      <td>https://sg.jobsdb.com/job/rd/adbd75e33b3a1415d...</td>\n",
       "      <td>Admin &amp; Accounts Executive</td>\n",
       "      <td>Roles &amp;amp; ResponsibilitiesJob Description&lt;br...</td>\n",
       "      <td>2020-01-01</td>\n",
       "      <td>4a536df3d73f2123c14b4a1d5fa6b8ecfd9352b3c390f1...</td>\n",
       "      <td>MILWORKS SOLUTIONS PTE. LTD.</td>\n",
       "      <td>InfoComm Technologies</td>\n",
       "      <td>0</td>\n",
       "      <td>0</td>\n",
       "      <td>1150.0</td>\n",
       "      <td>1917.0</td>\n",
       "      <td>SG</td>\n",
       "      <td>[{'skill': 'accounts payable accounting', 'ski...</td>\n",
       "      <td>['Bachelors']</td>\n",
       "    </tr>\n",
       "    <tr>\n",
       "      <td>4</td>\n",
       "      <td>01103f9a143bdecf5e09484315bd1a2fb36fe9e7acbca6...</td>\n",
       "      <td>https://sg.jobsdb.com/job/rd/adbd75e33b3a1415d...</td>\n",
       "      <td>Admin &amp; Accounts Executive</td>\n",
       "      <td>Roles &amp;amp; ResponsibilitiesJob Description&lt;br...</td>\n",
       "      <td>2020-01-01</td>\n",
       "      <td>4a536df3d73f2123c14b4a1d5fa6b8ecfd9352b3c390f1...</td>\n",
       "      <td>MILWORKS SOLUTIONS PTE. LTD.</td>\n",
       "      <td>InfoComm Technologies</td>\n",
       "      <td>0</td>\n",
       "      <td>0</td>\n",
       "      <td>1150.0</td>\n",
       "      <td>1917.0</td>\n",
       "      <td>SG</td>\n",
       "      <td>[{'skill': 'accounts payable accounting', 'ski...</td>\n",
       "      <td>['Bachelors']</td>\n",
       "    </tr>\n",
       "  </tbody>\n",
       "</table>\n",
       "</div>"
      ],
      "text/plain": [
       "                                               jobId  \\\n",
       "0  0023502d439415ad8bbdb62a7020114c0e67ed5824e0b6...   \n",
       "1  0053799fde5277b3ee431bb57f0820ef01a4c6abf7246d...   \n",
       "2  009bd6514108fed114208aa85c28a2c318291978e301ee...   \n",
       "3  00edb53a28e215cfb3f8d90594fac0872919bba772d842...   \n",
       "4  01103f9a143bdecf5e09484315bd1a2fb36fe9e7acbca6...   \n",
       "\n",
       "                                              jobUrl  \\\n",
       "0  https://sg.jobsdb.com/job/rd/adbd75e33b3a1415d...   \n",
       "1  https://sg.jobsdb.com/job/rd/adbd75e33b3a1415d...   \n",
       "2  https://sg.jobsdb.com/job/rd/adbd75e33b3a1415d...   \n",
       "3  https://sg.jobsdb.com/job/rd/adbd75e33b3a1415d...   \n",
       "4  https://sg.jobsdb.com/job/rd/adbd75e33b3a1415d...   \n",
       "\n",
       "                     jobTitle  \\\n",
       "0  Admin & Accounts Executive   \n",
       "1  Admin & Accounts Executive   \n",
       "2  Admin & Accounts Executive   \n",
       "3  Admin & Accounts Executive   \n",
       "4  Admin & Accounts Executive   \n",
       "\n",
       "                                      jobDescription  datePosted  \\\n",
       "0  Roles &amp; ResponsibilitiesJob Description<br...  2020-01-01   \n",
       "1  Roles &amp; ResponsibilitiesJob Description<br...  2020-01-01   \n",
       "2  Roles &amp; ResponsibilitiesJob Description<br...  2020-01-01   \n",
       "3  Roles &amp; ResponsibilitiesJob Description<br...  2020-01-01   \n",
       "4  Roles &amp; ResponsibilitiesJob Description<br...  2020-01-01   \n",
       "\n",
       "                                           companyId  \\\n",
       "0  4a536df3d73f2123c14b4a1d5fa6b8ecfd9352b3c390f1...   \n",
       "1  4a536df3d73f2123c14b4a1d5fa6b8ecfd9352b3c390f1...   \n",
       "2  4a536df3d73f2123c14b4a1d5fa6b8ecfd9352b3c390f1...   \n",
       "3  4a536df3d73f2123c14b4a1d5fa6b8ecfd9352b3c390f1...   \n",
       "4  4a536df3d73f2123c14b4a1d5fa6b8ecfd9352b3c390f1...   \n",
       "\n",
       "                    companyName             industryId  yoxMin  yoxMax  \\\n",
       "0  MILWORKS SOLUTIONS PTE. LTD.  InfoComm Technologies       0       0   \n",
       "1  MILWORKS SOLUTIONS PTE. LTD.  InfoComm Technologies       0       0   \n",
       "2  MILWORKS SOLUTIONS PTE. LTD.  InfoComm Technologies       0       0   \n",
       "3  MILWORKS SOLUTIONS PTE. LTD.  InfoComm Technologies       0       0   \n",
       "4  MILWORKS SOLUTIONS PTE. LTD.  InfoComm Technologies       0       0   \n",
       "\n",
       "   finalWageMin  finalWageMax countryCode  \\\n",
       "0        1150.0        1917.0          SG   \n",
       "1        1150.0        1917.0          SG   \n",
       "2        1150.0        1917.0          SG   \n",
       "3        1150.0        1917.0          SG   \n",
       "4        1150.0        1917.0          SG   \n",
       "\n",
       "                                              skills qualifications  \n",
       "0  [{'skill': 'accounts payable accounting', 'ski...  ['Bachelors']  \n",
       "1  [{'skill': 'accounts payable accounting', 'ski...  ['Bachelors']  \n",
       "2  [{'skill': 'accounts payable accounting', 'ski...  ['Bachelors']  \n",
       "3  [{'skill': 'accounts payable accounting', 'ski...  ['Bachelors']  \n",
       "4  [{'skill': 'accounts payable accounting', 'ski...  ['Bachelors']  "
      ]
     },
     "execution_count": 4,
     "metadata": {},
     "output_type": "execute_result"
    }
   ],
   "source": [
    "df_all.head()"
   ]
  },
  {
   "cell_type": "code",
   "execution_count": 5,
   "metadata": {},
   "outputs": [],
   "source": [
    "df_all_useful_cols = df_all[['companyName', 'industryId', 'datePosted', 'skills']].rename(columns={\n",
    "    'companyName': 'Company', 'industryId': 'Industry', 'datePosted': 'Date', 'skills': 'Skill List'\n",
    "})\n",
    "\n",
    "df_all_useful_cols['Skill List'] = df_all_useful_cols['Skill List'].apply(eval)\n",
    "df_all_useful_cols['Date'] = pd.to_datetime(df_all_useful_cols['Date'])\n",
    "company_totals = divide_into_periods(df_all_useful_cols, ['Company'], result_col_name='Total')\n",
    "\n",
    "df_all_useful_cols = explode(df_all_useful_cols, ['Skill List'])\n",
    "df_all_useful_cols = df_all_useful_cols.loc[df_all_useful_cols['Skill List'].apply(lambda x: x != '')]\n",
    "\n",
    "df_all_useful_cols['Skill'] = df_all_useful_cols['Skill List'].apply(lambda x: x['skill'])\n",
    "df_all_useful_cols['Skill Type'] = df_all_useful_cols['Skill List'].apply(lambda x: x['skillTypeId'])\n",
    "df_all_useful_cols = df_all_useful_cols.drop(columns='Skill List')"
   ]
  },
  {
   "cell_type": "code",
   "execution_count": 6,
   "metadata": {},
   "outputs": [
    {
     "data": {
      "text/html": [
       "<div>\n",
       "<style scoped>\n",
       "    .dataframe tbody tr th:only-of-type {\n",
       "        vertical-align: middle;\n",
       "    }\n",
       "\n",
       "    .dataframe tbody tr th {\n",
       "        vertical-align: top;\n",
       "    }\n",
       "\n",
       "    .dataframe thead th {\n",
       "        text-align: right;\n",
       "    }\n",
       "</style>\n",
       "<table border=\"1\" class=\"dataframe\">\n",
       "  <thead>\n",
       "    <tr style=\"text-align: right;\">\n",
       "      <th></th>\n",
       "      <th>Company</th>\n",
       "      <th>Date</th>\n",
       "      <th>Industry</th>\n",
       "      <th>Skill</th>\n",
       "      <th>Skill Type</th>\n",
       "    </tr>\n",
       "  </thead>\n",
       "  <tbody>\n",
       "    <tr>\n",
       "      <td>0</td>\n",
       "      <td>MILWORKS SOLUTIONS PTE. LTD.</td>\n",
       "      <td>2020-01-01</td>\n",
       "      <td>InfoComm Technologies</td>\n",
       "      <td>accounts payable accounting</td>\n",
       "      <td>2</td>\n",
       "    </tr>\n",
       "    <tr>\n",
       "      <td>1</td>\n",
       "      <td>Red Hat</td>\n",
       "      <td>2018-01-01</td>\n",
       "      <td>InfoComm Technologies</td>\n",
       "      <td>virtualization technology</td>\n",
       "      <td>1</td>\n",
       "    </tr>\n",
       "    <tr>\n",
       "      <td>2</td>\n",
       "      <td>KEYREPLY PTE. LTD.</td>\n",
       "      <td>2019-01-03</td>\n",
       "      <td>InfoComm Technologies</td>\n",
       "      <td>account management</td>\n",
       "      <td>2</td>\n",
       "    </tr>\n",
       "    <tr>\n",
       "      <td>3</td>\n",
       "      <td>KEYREPLY PTE. LTD.</td>\n",
       "      <td>2019-01-03</td>\n",
       "      <td>InfoComm Technologies</td>\n",
       "      <td>business development</td>\n",
       "      <td>1</td>\n",
       "    </tr>\n",
       "    <tr>\n",
       "      <td>4</td>\n",
       "      <td>KEYREPLY PTE. LTD.</td>\n",
       "      <td>2019-01-03</td>\n",
       "      <td>InfoComm Technologies</td>\n",
       "      <td>communication</td>\n",
       "      <td>4</td>\n",
       "    </tr>\n",
       "  </tbody>\n",
       "</table>\n",
       "</div>"
      ],
      "text/plain": [
       "                        Company       Date               Industry  \\\n",
       "0  MILWORKS SOLUTIONS PTE. LTD. 2020-01-01  InfoComm Technologies   \n",
       "1                       Red Hat 2018-01-01  InfoComm Technologies   \n",
       "2            KEYREPLY PTE. LTD. 2019-01-03  InfoComm Technologies   \n",
       "3            KEYREPLY PTE. LTD. 2019-01-03  InfoComm Technologies   \n",
       "4            KEYREPLY PTE. LTD. 2019-01-03  InfoComm Technologies   \n",
       "\n",
       "                         Skill  Skill Type  \n",
       "0  accounts payable accounting           2  \n",
       "1    virtualization technology           1  \n",
       "2           account management           2  \n",
       "3         business development           1  \n",
       "4                communication           4  "
      ]
     },
     "execution_count": 6,
     "metadata": {},
     "output_type": "execute_result"
    }
   ],
   "source": [
    "df_all_useful_cols.head()"
   ]
  },
  {
   "cell_type": "markdown",
   "metadata": {},
   "source": [
    "If we want to filter out the irrelevant skill types (which I need to figure out), here is the place."
   ]
  },
  {
   "cell_type": "code",
   "execution_count": 7,
   "metadata": {},
   "outputs": [],
   "source": [
    "absolute_start = np.datetime64('2017-01-01')\n",
    "absolute_end = np.datetime64('2020-01-01')"
   ]
  },
  {
   "cell_type": "code",
   "execution_count": 8,
   "metadata": {},
   "outputs": [],
   "source": [
    "skills_df = divide_into_periods(df_all_useful_cols, ['Company', 'Skill'], \n",
    "                                absolute_start, absolute_end, result_col_name='Job Postings Raw')\n",
    "skills_df = pd.merge(skills_df, company_totals, on = ['Company', 'Date'])\n",
    "skills_df['Job Postings'] = skills_df['Job Postings Raw'] / skills_df['Total']"
   ]
  },
  {
   "cell_type": "code",
   "execution_count": 14,
   "metadata": {},
   "outputs": [
    {
     "data": {
      "text/html": [
       "<div>\n",
       "<style scoped>\n",
       "    .dataframe tbody tr th:only-of-type {\n",
       "        vertical-align: middle;\n",
       "    }\n",
       "\n",
       "    .dataframe tbody tr th {\n",
       "        vertical-align: top;\n",
       "    }\n",
       "\n",
       "    .dataframe thead th {\n",
       "        text-align: right;\n",
       "    }\n",
       "</style>\n",
       "<table border=\"1\" class=\"dataframe\">\n",
       "  <thead>\n",
       "    <tr style=\"text-align: right;\">\n",
       "      <th></th>\n",
       "      <th>Company</th>\n",
       "      <th>Skill</th>\n",
       "      <th>Date</th>\n",
       "      <th>Job Postings Raw</th>\n",
       "      <th>Total</th>\n",
       "      <th>Job Postings</th>\n",
       "    </tr>\n",
       "  </thead>\n",
       "  <tbody>\n",
       "    <tr>\n",
       "      <td>194986</td>\n",
       "      <td>Netsense Business Solutions</td>\n",
       "      <td>business operations</td>\n",
       "      <td>2017-01-01</td>\n",
       "      <td>1</td>\n",
       "      <td>1</td>\n",
       "      <td>1.000000</td>\n",
       "    </tr>\n",
       "    <tr>\n",
       "      <td>279160</td>\n",
       "      <td>VOLTRIUM SYSTEMS PTE LTD</td>\n",
       "      <td>problem solving</td>\n",
       "      <td>2017-01-01</td>\n",
       "      <td>1</td>\n",
       "      <td>1</td>\n",
       "      <td>1.000000</td>\n",
       "    </tr>\n",
       "    <tr>\n",
       "      <td>279161</td>\n",
       "      <td>VOLTRIUM SYSTEMS PTE LTD</td>\n",
       "      <td>resourceful</td>\n",
       "      <td>2017-01-01</td>\n",
       "      <td>1</td>\n",
       "      <td>1</td>\n",
       "      <td>1.000000</td>\n",
       "    </tr>\n",
       "    <tr>\n",
       "      <td>279162</td>\n",
       "      <td>VOLTRIUM SYSTEMS PTE LTD</td>\n",
       "      <td>sales</td>\n",
       "      <td>2017-01-01</td>\n",
       "      <td>1</td>\n",
       "      <td>1</td>\n",
       "      <td>1.000000</td>\n",
       "    </tr>\n",
       "    <tr>\n",
       "      <td>279163</td>\n",
       "      <td>VOLTRIUM SYSTEMS PTE LTD</td>\n",
       "      <td>telecommunications</td>\n",
       "      <td>2017-01-01</td>\n",
       "      <td>1</td>\n",
       "      <td>1</td>\n",
       "      <td>1.000000</td>\n",
       "    </tr>\n",
       "    <tr>\n",
       "      <td>279164</td>\n",
       "      <td>VOLTRIUM SYSTEMS PTE LTD</td>\n",
       "      <td>vb</td>\n",
       "      <td>2017-01-01</td>\n",
       "      <td>1</td>\n",
       "      <td>1</td>\n",
       "      <td>1.000000</td>\n",
       "    </tr>\n",
       "    <tr>\n",
       "      <td>279165</td>\n",
       "      <td>VOLTRIUM SYSTEMS PTE LTD</td>\n",
       "      <td>willing to travel</td>\n",
       "      <td>2017-01-01</td>\n",
       "      <td>1</td>\n",
       "      <td>1</td>\n",
       "      <td>1.000000</td>\n",
       "    </tr>\n",
       "    <tr>\n",
       "      <td>19673</td>\n",
       "      <td>Agilent Technologies Singapore (International)...</td>\n",
       "      <td>javascript</td>\n",
       "      <td>2017-01-01</td>\n",
       "      <td>1</td>\n",
       "      <td>20</td>\n",
       "      <td>0.050000</td>\n",
       "    </tr>\n",
       "    <tr>\n",
       "      <td>19672</td>\n",
       "      <td>Agilent Technologies Singapore (International)...</td>\n",
       "      <td>japanese language</td>\n",
       "      <td>2017-01-01</td>\n",
       "      <td>1</td>\n",
       "      <td>20</td>\n",
       "      <td>0.050000</td>\n",
       "    </tr>\n",
       "    <tr>\n",
       "      <td>251351</td>\n",
       "      <td>Solarwinds Software Asia Pte Ltd</td>\n",
       "      <td>work shifts/irregular hours</td>\n",
       "      <td>2017-01-01</td>\n",
       "      <td>1</td>\n",
       "      <td>7</td>\n",
       "      <td>0.142857</td>\n",
       "    </tr>\n",
       "  </tbody>\n",
       "</table>\n",
       "</div>"
      ],
      "text/plain": [
       "                                                  Company  \\\n",
       "194986                        Netsense Business Solutions   \n",
       "279160                           VOLTRIUM SYSTEMS PTE LTD   \n",
       "279161                           VOLTRIUM SYSTEMS PTE LTD   \n",
       "279162                           VOLTRIUM SYSTEMS PTE LTD   \n",
       "279163                           VOLTRIUM SYSTEMS PTE LTD   \n",
       "279164                           VOLTRIUM SYSTEMS PTE LTD   \n",
       "279165                           VOLTRIUM SYSTEMS PTE LTD   \n",
       "19673   Agilent Technologies Singapore (International)...   \n",
       "19672   Agilent Technologies Singapore (International)...   \n",
       "251351                   Solarwinds Software Asia Pte Ltd   \n",
       "\n",
       "                              Skill       Date  Job Postings Raw  Total  \\\n",
       "194986          business operations 2017-01-01                 1      1   \n",
       "279160              problem solving 2017-01-01                 1      1   \n",
       "279161                  resourceful 2017-01-01                 1      1   \n",
       "279162                        sales 2017-01-01                 1      1   \n",
       "279163           telecommunications 2017-01-01                 1      1   \n",
       "279164                           vb 2017-01-01                 1      1   \n",
       "279165            willing to travel 2017-01-01                 1      1   \n",
       "19673                    javascript 2017-01-01                 1     20   \n",
       "19672             japanese language 2017-01-01                 1     20   \n",
       "251351  work shifts/irregular hours 2017-01-01                 1      7   \n",
       "\n",
       "        Job Postings  \n",
       "194986      1.000000  \n",
       "279160      1.000000  \n",
       "279161      1.000000  \n",
       "279162      1.000000  \n",
       "279163      1.000000  \n",
       "279164      1.000000  \n",
       "279165      1.000000  \n",
       "19673       0.050000  \n",
       "19672       0.050000  \n",
       "251351      0.142857  "
      ]
     },
     "execution_count": 14,
     "metadata": {},
     "output_type": "execute_result"
    }
   ],
   "source": [
    "skills_df.sort_values('Date').head(10)"
   ]
  },
  {
   "cell_type": "code",
   "execution_count": 9,
   "metadata": {},
   "outputs": [],
   "source": [
    "monthly_totals = compute_total_values(skills_df)\n",
    "total_log = compute_total_log_mean(skills_df)"
   ]
  },
  {
   "cell_type": "code",
   "execution_count": 10,
   "metadata": {},
   "outputs": [],
   "source": [
    "start_and_end_dates = [(np.datetime64('2018-01-01'), np.datetime64('2019-01-01')), \n",
    "                       (np.datetime64('2019-01-01'), np.datetime64('2020-01-01')),\n",
    "                       (np.datetime64('2018-01-01'), np.datetime64('2020-01-01'))]\n",
    "total_values = [get_period_of_time(monthly_totals, start_and_end_dates[i][0], start_and_end_dates[i][1]).sum()[0]\n",
    "                for i in range(len(start_and_end_dates))]"
   ]
  },
  {
   "cell_type": "code",
   "execution_count": 13,
   "metadata": {
    "scrolled": true
   },
   "outputs": [
    {
     "name": "stdout",
     "output_type": "stream",
     "text": [
      "Start: 2018-01-01\n",
      "End: 2019-01-01\n",
      "Number of skills: 1779\n",
      "             Slope    Intercept  Acceleration    Spikiness\n",
      "count  1779.000000  1779.000000   1779.000000  1779.000000\n",
      "mean      0.257297     2.024744     21.654206    -2.797133\n",
      "std       0.694567     7.794600    134.688898   223.935420\n",
      "min      -0.515435    -1.789438     -8.559333 -7214.830030\n",
      "25%      -0.002704    -0.641191     -0.011344    -6.416874\n",
      "50%       0.046983    -0.288117      0.021950     5.741854\n",
      "75%       0.198957     1.004670      0.993625     8.825856\n",
      "max       8.339266   112.205171   3501.118692  5088.170589\n",
      "Start: 2019-01-01\n",
      "End: 2020-01-01\n",
      "Number of skills: 1947\n",
      "             Slope    Intercept  Acceleration     Spikiness\n",
      "count  1947.000000  1947.000000   1947.000000   1947.000000\n",
      "mean      0.109297     5.098714     13.001648    -93.312616\n",
      "std       0.477435    16.353183     94.328421   1019.484343\n",
      "min      -0.911262    -1.452125   -103.551178 -13422.098414\n",
      "25%      -0.036599    -0.566693     -0.047402    -16.716080\n",
      "50%       0.010070     0.078495     -0.004051      4.698177\n",
      "75%       0.081928     2.875802      0.086029      7.881019\n",
      "max       5.232024   244.800276   1859.697887    289.444574\n",
      "Start: 2018-01-01\n",
      "End: 2020-01-01\n",
      "Number of skills: 2068\n",
      "             Slope    Intercept  Acceleration    Spikiness\n",
      "count  2068.000000  2068.000000   2068.000000  2068.000000\n",
      "mean      0.193110     1.853207     18.611693     2.757126\n",
      "std       0.579684     7.609179    130.117274   187.049550\n",
      "min      -0.092467    -1.558096     -0.477780 -3759.193571\n",
      "25%      -0.000534    -0.644862      0.002612   -14.132898\n",
      "50%       0.020941    -0.401197      0.012283     6.444929\n",
      "75%       0.113359     0.830480      0.484435    11.076301\n",
      "max       8.302780   116.558001   3688.666506  4611.097516\n"
     ]
    }
   ],
   "source": [
    "skill_trends = [logsum_trend_slope_wrapper(skills_df, \n",
    "                                                  start_and_end_dates[i][0], start_and_end_dates[i][1],\n",
    "                                                  total_log) for i in range(len(start_and_end_dates))]"
   ]
  },
  {
   "cell_type": "code",
   "execution_count": 26,
   "metadata": {},
   "outputs": [
    {
     "data": {
      "text/html": [
       "<div>\n",
       "<style scoped>\n",
       "    .dataframe tbody tr th:only-of-type {\n",
       "        vertical-align: middle;\n",
       "    }\n",
       "\n",
       "    .dataframe tbody tr th {\n",
       "        vertical-align: top;\n",
       "    }\n",
       "\n",
       "    .dataframe thead th {\n",
       "        text-align: right;\n",
       "    }\n",
       "</style>\n",
       "<table border=\"1\" class=\"dataframe\">\n",
       "  <thead>\n",
       "    <tr style=\"text-align: right;\">\n",
       "      <th></th>\n",
       "      <th>Slope</th>\n",
       "      <th>Intercept</th>\n",
       "      <th>Acceleration</th>\n",
       "      <th>Spikiness</th>\n",
       "      <th>Job Postings Raw</th>\n",
       "    </tr>\n",
       "    <tr>\n",
       "      <th>Skill</th>\n",
       "      <th></th>\n",
       "      <th></th>\n",
       "      <th></th>\n",
       "      <th></th>\n",
       "      <th></th>\n",
       "    </tr>\n",
       "  </thead>\n",
       "  <tbody>\n",
       "    <tr>\n",
       "      <td>communication</td>\n",
       "      <td>8.339266</td>\n",
       "      <td>112.205171</td>\n",
       "      <td>3501.118692</td>\n",
       "      <td>6.182881</td>\n",
       "      <td>5241</td>\n",
       "    </tr>\n",
       "    <tr>\n",
       "      <td>creative thinking</td>\n",
       "      <td>5.839638</td>\n",
       "      <td>51.759699</td>\n",
       "      <td>1246.139046</td>\n",
       "      <td>6.706084</td>\n",
       "      <td>2688</td>\n",
       "    </tr>\n",
       "    <tr>\n",
       "      <td>sales</td>\n",
       "      <td>5.585375</td>\n",
       "      <td>92.367777</td>\n",
       "      <td>1854.154345</td>\n",
       "      <td>6.174248</td>\n",
       "      <td>3776</td>\n",
       "    </tr>\n",
       "    <tr>\n",
       "      <td>team player</td>\n",
       "      <td>5.229451</td>\n",
       "      <td>74.430501</td>\n",
       "      <td>1327.491064</td>\n",
       "      <td>5.359046</td>\n",
       "      <td>2974</td>\n",
       "    </tr>\n",
       "    <tr>\n",
       "      <td>marketing</td>\n",
       "      <td>5.107754</td>\n",
       "      <td>48.891825</td>\n",
       "      <td>1054.760705</td>\n",
       "      <td>7.175517</td>\n",
       "      <td>2273</td>\n",
       "    </tr>\n",
       "    <tr>\n",
       "      <td>meticulous</td>\n",
       "      <td>5.089531</td>\n",
       "      <td>67.131476</td>\n",
       "      <td>1249.410845</td>\n",
       "      <td>6.208125</td>\n",
       "      <td>2594</td>\n",
       "    </tr>\n",
       "    <tr>\n",
       "      <td>motivated</td>\n",
       "      <td>4.910826</td>\n",
       "      <td>64.762924</td>\n",
       "      <td>1151.868696</td>\n",
       "      <td>5.901719</td>\n",
       "      <td>2617</td>\n",
       "    </tr>\n",
       "    <tr>\n",
       "      <td>leadership</td>\n",
       "      <td>4.679331</td>\n",
       "      <td>40.446678</td>\n",
       "      <td>758.049829</td>\n",
       "      <td>6.270344</td>\n",
       "      <td>2027</td>\n",
       "    </tr>\n",
       "    <tr>\n",
       "      <td>strategic thinking</td>\n",
       "      <td>4.499792</td>\n",
       "      <td>37.703492</td>\n",
       "      <td>723.072347</td>\n",
       "      <td>7.077016</td>\n",
       "      <td>2060</td>\n",
       "    </tr>\n",
       "    <tr>\n",
       "      <td>problem solving</td>\n",
       "      <td>4.414723</td>\n",
       "      <td>38.833203</td>\n",
       "      <td>721.425065</td>\n",
       "      <td>7.320568</td>\n",
       "      <td>1794</td>\n",
       "    </tr>\n",
       "    <tr>\n",
       "      <td>passionate</td>\n",
       "      <td>4.270439</td>\n",
       "      <td>32.496424</td>\n",
       "      <td>624.859673</td>\n",
       "      <td>7.018849</td>\n",
       "      <td>1563</td>\n",
       "    </tr>\n",
       "    <tr>\n",
       "      <td>results-oriented</td>\n",
       "      <td>4.195672</td>\n",
       "      <td>41.023180</td>\n",
       "      <td>664.472672</td>\n",
       "      <td>6.182063</td>\n",
       "      <td>1708</td>\n",
       "    </tr>\n",
       "    <tr>\n",
       "      <td>time management</td>\n",
       "      <td>4.074691</td>\n",
       "      <td>38.381902</td>\n",
       "      <td>661.459065</td>\n",
       "      <td>7.171708</td>\n",
       "      <td>1528</td>\n",
       "    </tr>\n",
       "    <tr>\n",
       "      <td>general programming</td>\n",
       "      <td>4.012825</td>\n",
       "      <td>30.312946</td>\n",
       "      <td>567.043684</td>\n",
       "      <td>7.182816</td>\n",
       "      <td>1388</td>\n",
       "    </tr>\n",
       "    <tr>\n",
       "      <td>fast-paced</td>\n",
       "      <td>3.988377</td>\n",
       "      <td>48.250501</td>\n",
       "      <td>678.475464</td>\n",
       "      <td>5.549635</td>\n",
       "      <td>2023</td>\n",
       "    </tr>\n",
       "    <tr>\n",
       "      <td>analytical thinking</td>\n",
       "      <td>3.886477</td>\n",
       "      <td>46.861385</td>\n",
       "      <td>730.809668</td>\n",
       "      <td>7.108220</td>\n",
       "      <td>2137</td>\n",
       "    </tr>\n",
       "    <tr>\n",
       "      <td>sops/best practices</td>\n",
       "      <td>3.849371</td>\n",
       "      <td>25.900666</td>\n",
       "      <td>482.144319</td>\n",
       "      <td>7.660328</td>\n",
       "      <td>1212</td>\n",
       "    </tr>\n",
       "    <tr>\n",
       "      <td>coordination</td>\n",
       "      <td>3.656149</td>\n",
       "      <td>35.388395</td>\n",
       "      <td>530.999985</td>\n",
       "      <td>6.527464</td>\n",
       "      <td>1419</td>\n",
       "    </tr>\n",
       "    <tr>\n",
       "      <td>presentation</td>\n",
       "      <td>3.628740</td>\n",
       "      <td>36.391670</td>\n",
       "      <td>541.433862</td>\n",
       "      <td>7.147682</td>\n",
       "      <td>1523</td>\n",
       "    </tr>\n",
       "    <tr>\n",
       "      <td>inquisitive</td>\n",
       "      <td>3.623306</td>\n",
       "      <td>19.562751</td>\n",
       "      <td>375.750646</td>\n",
       "      <td>7.703458</td>\n",
       "      <td>983</td>\n",
       "    </tr>\n",
       "  </tbody>\n",
       "</table>\n",
       "</div>"
      ],
      "text/plain": [
       "                        Slope   Intercept  Acceleration  Spikiness  \\\n",
       "Skill                                                                \n",
       "communication        8.339266  112.205171   3501.118692   6.182881   \n",
       "creative thinking    5.839638   51.759699   1246.139046   6.706084   \n",
       "sales                5.585375   92.367777   1854.154345   6.174248   \n",
       "team player          5.229451   74.430501   1327.491064   5.359046   \n",
       "marketing            5.107754   48.891825   1054.760705   7.175517   \n",
       "meticulous           5.089531   67.131476   1249.410845   6.208125   \n",
       "motivated            4.910826   64.762924   1151.868696   5.901719   \n",
       "leadership           4.679331   40.446678    758.049829   6.270344   \n",
       "strategic thinking   4.499792   37.703492    723.072347   7.077016   \n",
       "problem solving      4.414723   38.833203    721.425065   7.320568   \n",
       "passionate           4.270439   32.496424    624.859673   7.018849   \n",
       "results-oriented     4.195672   41.023180    664.472672   6.182063   \n",
       "time management      4.074691   38.381902    661.459065   7.171708   \n",
       "general programming  4.012825   30.312946    567.043684   7.182816   \n",
       "fast-paced           3.988377   48.250501    678.475464   5.549635   \n",
       "analytical thinking  3.886477   46.861385    730.809668   7.108220   \n",
       "sops/best practices  3.849371   25.900666    482.144319   7.660328   \n",
       "coordination         3.656149   35.388395    530.999985   6.527464   \n",
       "presentation         3.628740   36.391670    541.433862   7.147682   \n",
       "inquisitive          3.623306   19.562751    375.750646   7.703458   \n",
       "\n",
       "                     Job Postings Raw  \n",
       "Skill                                  \n",
       "communication                    5241  \n",
       "creative thinking                2688  \n",
       "sales                            3776  \n",
       "team player                      2974  \n",
       "marketing                        2273  \n",
       "meticulous                       2594  \n",
       "motivated                        2617  \n",
       "leadership                       2027  \n",
       "strategic thinking               2060  \n",
       "problem solving                  1794  \n",
       "passionate                       1563  \n",
       "results-oriented                 1708  \n",
       "time management                  1528  \n",
       "general programming              1388  \n",
       "fast-paced                       2023  \n",
       "analytical thinking              2137  \n",
       "sops/best practices              1212  \n",
       "coordination                     1419  \n",
       "presentation                     1523  \n",
       "inquisitive                       983  "
      ]
     },
     "execution_count": 26,
     "metadata": {},
     "output_type": "execute_result"
    }
   ],
   "source": [
    "skill_trends[0].sort_values('Slope', ascending=False).head(20)"
   ]
  },
  {
   "cell_type": "code",
   "execution_count": 21,
   "metadata": {},
   "outputs": [
    {
     "data": {
      "text/html": [
       "<div>\n",
       "<style scoped>\n",
       "    .dataframe tbody tr th:only-of-type {\n",
       "        vertical-align: middle;\n",
       "    }\n",
       "\n",
       "    .dataframe tbody tr th {\n",
       "        vertical-align: top;\n",
       "    }\n",
       "\n",
       "    .dataframe thead th {\n",
       "        text-align: right;\n",
       "    }\n",
       "</style>\n",
       "<table border=\"1\" class=\"dataframe\">\n",
       "  <thead>\n",
       "    <tr style=\"text-align: right;\">\n",
       "      <th></th>\n",
       "      <th>Slope</th>\n",
       "      <th>Intercept</th>\n",
       "      <th>Acceleration</th>\n",
       "      <th>Spikiness</th>\n",
       "      <th>Job Postings Raw</th>\n",
       "    </tr>\n",
       "  </thead>\n",
       "  <tbody>\n",
       "    <tr>\n",
       "      <td>Slope</td>\n",
       "      <td>1.000000</td>\n",
       "      <td>0.728744</td>\n",
       "      <td>0.829678</td>\n",
       "      <td>0.016633</td>\n",
       "      <td>0.775905</td>\n",
       "    </tr>\n",
       "    <tr>\n",
       "      <td>Intercept</td>\n",
       "      <td>0.728744</td>\n",
       "      <td>1.000000</td>\n",
       "      <td>0.787611</td>\n",
       "      <td>0.034212</td>\n",
       "      <td>0.985171</td>\n",
       "    </tr>\n",
       "    <tr>\n",
       "      <td>Acceleration</td>\n",
       "      <td>0.829678</td>\n",
       "      <td>0.787611</td>\n",
       "      <td>1.000000</td>\n",
       "      <td>0.013165</td>\n",
       "      <td>0.843001</td>\n",
       "    </tr>\n",
       "    <tr>\n",
       "      <td>Spikiness</td>\n",
       "      <td>0.016633</td>\n",
       "      <td>0.034212</td>\n",
       "      <td>0.013165</td>\n",
       "      <td>1.000000</td>\n",
       "      <td>0.028966</td>\n",
       "    </tr>\n",
       "    <tr>\n",
       "      <td>Job Postings Raw</td>\n",
       "      <td>0.775905</td>\n",
       "      <td>0.985171</td>\n",
       "      <td>0.843001</td>\n",
       "      <td>0.028966</td>\n",
       "      <td>1.000000</td>\n",
       "    </tr>\n",
       "  </tbody>\n",
       "</table>\n",
       "</div>"
      ],
      "text/plain": [
       "                     Slope  Intercept  Acceleration  Spikiness  \\\n",
       "Slope             1.000000   0.728744      0.829678   0.016633   \n",
       "Intercept         0.728744   1.000000      0.787611   0.034212   \n",
       "Acceleration      0.829678   0.787611      1.000000   0.013165   \n",
       "Spikiness         0.016633   0.034212      0.013165   1.000000   \n",
       "Job Postings Raw  0.775905   0.985171      0.843001   0.028966   \n",
       "\n",
       "                  Job Postings Raw  \n",
       "Slope                     0.775905  \n",
       "Intercept                 0.985171  \n",
       "Acceleration              0.843001  \n",
       "Spikiness                 0.028966  \n",
       "Job Postings Raw          1.000000  "
      ]
     },
     "execution_count": 21,
     "metadata": {},
     "output_type": "execute_result"
    }
   ],
   "source": [
    "skill_trends[1].corr(method='pearson')"
   ]
  },
  {
   "cell_type": "code",
   "execution_count": 22,
   "metadata": {},
   "outputs": [
    {
     "data": {
      "text/html": [
       "<div>\n",
       "<style scoped>\n",
       "    .dataframe tbody tr th:only-of-type {\n",
       "        vertical-align: middle;\n",
       "    }\n",
       "\n",
       "    .dataframe tbody tr th {\n",
       "        vertical-align: top;\n",
       "    }\n",
       "\n",
       "    .dataframe thead th {\n",
       "        text-align: right;\n",
       "    }\n",
       "</style>\n",
       "<table border=\"1\" class=\"dataframe\">\n",
       "  <thead>\n",
       "    <tr style=\"text-align: right;\">\n",
       "      <th></th>\n",
       "      <th>Slope</th>\n",
       "      <th>Intercept</th>\n",
       "      <th>Acceleration</th>\n",
       "      <th>Spikiness</th>\n",
       "      <th>Job Postings Raw</th>\n",
       "    </tr>\n",
       "  </thead>\n",
       "  <tbody>\n",
       "    <tr>\n",
       "      <td>Slope</td>\n",
       "      <td>1.000000</td>\n",
       "      <td>-0.004140</td>\n",
       "      <td>0.671049</td>\n",
       "      <td>-0.060807</td>\n",
       "      <td>0.255656</td>\n",
       "    </tr>\n",
       "    <tr>\n",
       "      <td>Intercept</td>\n",
       "      <td>-0.004140</td>\n",
       "      <td>1.000000</td>\n",
       "      <td>0.145318</td>\n",
       "      <td>0.223003</td>\n",
       "      <td>0.908577</td>\n",
       "    </tr>\n",
       "    <tr>\n",
       "      <td>Acceleration</td>\n",
       "      <td>0.671049</td>\n",
       "      <td>0.145318</td>\n",
       "      <td>1.000000</td>\n",
       "      <td>-0.110898</td>\n",
       "      <td>0.184506</td>\n",
       "    </tr>\n",
       "    <tr>\n",
       "      <td>Spikiness</td>\n",
       "      <td>-0.060807</td>\n",
       "      <td>0.223003</td>\n",
       "      <td>-0.110898</td>\n",
       "      <td>1.000000</td>\n",
       "      <td>0.314487</td>\n",
       "    </tr>\n",
       "    <tr>\n",
       "      <td>Job Postings Raw</td>\n",
       "      <td>0.255656</td>\n",
       "      <td>0.908577</td>\n",
       "      <td>0.184506</td>\n",
       "      <td>0.314487</td>\n",
       "      <td>1.000000</td>\n",
       "    </tr>\n",
       "  </tbody>\n",
       "</table>\n",
       "</div>"
      ],
      "text/plain": [
       "                     Slope  Intercept  Acceleration  Spikiness  \\\n",
       "Slope             1.000000  -0.004140      0.671049  -0.060807   \n",
       "Intercept        -0.004140   1.000000      0.145318   0.223003   \n",
       "Acceleration      0.671049   0.145318      1.000000  -0.110898   \n",
       "Spikiness        -0.060807   0.223003     -0.110898   1.000000   \n",
       "Job Postings Raw  0.255656   0.908577      0.184506   0.314487   \n",
       "\n",
       "                  Job Postings Raw  \n",
       "Slope                     0.255656  \n",
       "Intercept                 0.908577  \n",
       "Acceleration              0.184506  \n",
       "Spikiness                 0.314487  \n",
       "Job Postings Raw          1.000000  "
      ]
     },
     "execution_count": 22,
     "metadata": {},
     "output_type": "execute_result"
    }
   ],
   "source": [
    "skill_trends[1].corr(method='spearman')"
   ]
  },
  {
   "cell_type": "code",
   "execution_count": 27,
   "metadata": {},
   "outputs": [],
   "source": [
    "emerging_skills = [threshold_logsum_trends_simple(skill_trends[i], total=total_values[i], slope_percentile_thresh=.8) \n",
    "                        for i in range(len(skill_trends))]"
   ]
  },
  {
   "cell_type": "code",
   "execution_count": 28,
   "metadata": {
    "scrolled": true
   },
   "outputs": [
    {
     "name": "stdout",
     "output_type": "stream",
     "text": [
      "\n",
      "Comparing 2018-01-01 to 2019-01-01 with 2019-01-01 to 2020-01-01\n",
      "\n",
      "# of skills shared and exclusive to each date (in order)\n",
      "26 112 150\n",
      "\n",
      "The skills themselves:\n",
      "\n",
      "Shared:\n",
      "\n",
      "{'microsoft office 365', 'social media (whatsapp)', 'search-engine marketing', 'accident and incident response management', 'terraform', 'ruby', 'confluence', 'corporate communications', 'financial audit', 'publishing', 'photography', 'lifelong learning', 'service oriented architecture', 'enterprise web architecture', 'dynamic host configuration protocol', 'channel management', 'architectural design', 'teaching', 'mpls', 'practical malware analysis', 'support process', 'full stack development', 'google analytics', 'quality of service (qos)', 'mac os', 'journalism'}\n",
      "\n",
      "Exclusive to 2018-01-01 to 2019-01-01\n",
      "\n",
      "{'cisco webex', 'crisis management', 'data structure', 'product design', 'shell scripts', 'data wrangling', 'financial system', 'industrial design', 'front-end development', 'search engine optimization (seo)', 'partnership establishment', 'process optimisation', 'kubernetes', 'service management', 'swift', 'public speaking', 'fraud management', 'marketing audit', 'quality systems', 'data collection', 'aml/cft', 'data visualisation', 'mongodb', 'cryptocurrency', 'credit control', 'ospf', 'google go programming language', 'postgresql', 'cost containment', 'source code', 'campaign management', 'employment law', 'infrastructure-as-a-service (iaas)', 'data/text mining', 'sas', 'scala', 'wireframes', 'quantitative analysis', 'blockchain technology', 'apache hive', 'predictive modelling', 'kanban', 'strategic/business transformation', 'interaction design (ixd)', 'natural language processing (nlp)', 'data quality control', 'pricing strategy', 'content generation', 'social media (youtube)', 'organic/polymer chemistry', 'tax reporting', 'physics', 'public sector experience', 'objective c', 'apache hbase', 'hr business partner', 'it service management', 'marketing communications', 'vietnamese language', 'business communication', 'korean language', 'spss', 'market analysis', 'ccie', 'experience in corporate environment', 'business intelligence (bi) tools', 'bahasa indonesia', 'ansible', 'supply chain management', 'github', 'micro-services', 'database optimisation', 'mobile technology', 'microsoft visio', 'qlikview', 'predictive analytics', 'platform-as-a-service (paas)', 'soap', 'test-driven development', 'cantonese language', 'bootstrap', 'ibm websphere', 'fintech', 'objectivity', 'persuasion', 'financial products', 'google ads', 'public policy', 'public relations management', 'work shifts/irregular hours', 'industrial engineering', 'contract management', 'lightweight directory access protocol', 'tensorflow', 'resource management', 'goods and services tax (gst)', 'investment banking', 'thai language', 'microsoft project', 'quick-witted', 'acca (association of chartered certified accountants)', 'b2b marketing', 'vb', 'apache kafka', 'software quality', 'security operations', 'bgp (border gateway protocol)', 'benchmarking', 'active directory', 'capital market', 'powershell', 'diagrams and drawings'}\n",
      "\n",
      "Exclusive to 2019-01-01 to 2020-01-01\n",
      "\n",
      "{'virtual desktop infrastructure (vdi)', 'marine & offshore', 'defensive programming', 'cross-selling', 'bioinformatics', 'promotion mechanism', 'customer retention', 'diplomatic', 'process analysis', 'radio frequency', 'financial accounting', 'disaster recovery planning', 'design thinking', 'biopharmaceutical', 'business deal management', 'web design', 'preventive maintenance', 'staff onboarding', 'systematic risk management', 'penetration testing', 'theatre and performing arts', 'end-user computing', 'network systems', 'accounts payable accounting', 'internal control', 'wpf (windows presentation foundation)', 'technical writing', 'employee assessment', 'esb (enterprise service bus)', 'clinical research', 'tender management', 'policy implementation', 'database administration', 'managed security services (mss)', 'chemistry', 'statistical analysis', 'software development methodologies', 'portfolio management', 'recruitment policy', 'security monitoring', 'fea (finite element analysis)', 'molecular biology', 'openstack', 'keras', 'cell culture', 'application maintenance', 'adobe creative suite', 'cyber security compliance', 'cad (computer aided design)', 'adobe marketo', 'manufacturing workflow', 'fault diagnosis', 'building management system', 'wealth management', 'cancer biology', 'cisco certified network professional', 'master data governance', 'italian language', 'voip', 'event management', 'statistical process control', 'openshift', 'vulnerability management', 'observe high level of hygiene', 'outsystems', 'vmware certified professional', 'biochemistry', 'medical disease', 'semiconductor', 'printed circuit board assembly (pcba)', 'salt (python)', 'system audit', 'certified information security manager (cism)', 'csd (cross spectral density)', 'user experience evaluation', 'incident reporting', 'tender document preparation', 'rfi management', 'geographic information system (gis)', 'data recovery', 'cisco asa', 'e-mail marketing', 'microsoft certified solution associate', 'system operations', 'invoicing', 'certified information systems auditor (cisa)', 'database security', 'telecommunications engineering', 'web application firewall (waf)', 'order confirmation management', 'soldering', 'team development', 'microsoft hyper-v', 'embraces diversity', 'effectively multilingual', 'mechanical calibration', 'visual communication', 'computer systems', 'personal data protection act', 'esx', 'anti-virus programming', 'apache struts', 'oracle database', 'genomics', 'sales statistics', 'system implementation', 'system maintenance', 'hospitality', 'fault rectification', 'bluecoat', 'german language', 'autocad', 'material science', 'biotechnology', 'solidworks', 'microsoft dynamics nav', 'gui programming', 'video editing', 'mass communication', 'endpoint security', 'audio-visual equipment', 'original equipment manufacturer (oem)', 'data migration', 'adobe indesign', 'engineering design', 'possess driving licence', 'life science', 'market environment', 'gcp (good clinical practice)', 'pos system', 'microsoft certified solution expert', 'ddos', 'video analytics', 'apache tomcat', 'health insurance', 'sales prospecting', 'identity access management', 'immunology', 'network building', 'visual merchandising', 'it administration', 'electronics engineering', 'graphic design', 'patch management', 'wide area network configuration', 'system testing', 'biometrics', 'it operations management (itom)', 'printed circuit board (pcb)', 'adobe premiere pro'}\n",
      "\n",
      "Comparing 2018-01-01 to 2019-01-01 with 2018-01-01 to 2020-01-01\n",
      "\n",
      "# of skills shared and exclusive to each date (in order)\n",
      "66 72 68\n",
      "\n",
      "The skills themselves:\n",
      "\n",
      "Shared:\n",
      "\n",
      "{'microsoft office 365', 'postgresql', 'social media (whatsapp)', 'search-engine marketing', 'vietnamese language', 'source code', 'terraform', 'accident and incident response management', 'korean language', 'ruby', 'data wrangling', 'shell scripts', 'financial system', 'confluence', 'corporate communications', 'tensorflow', 'financial audit', 'front-end development', 'photography', 'goods and services tax (gst)', 'business intelligence (bi) tools', 'data/text mining', 'sas', 'scala', 'wireframes', 'ansible', 'service oriented architecture', 'quantitative analysis', 'supply chain management', 'blockchain technology', 'partnership establishment', 'github', 'thai language', 'dynamic host configuration protocol', 'database optimisation', 'microsoft visio', 'process optimisation', 'qlikview', 'vb', 'swift', 'apache kafka', 'soap', 'software quality', 'natural language processing (nlp)', 'data quality control', 'architectural design', 'bootstrap', 'aml/cft', 'ibm websphere', 'organic/polymer chemistry', 'powershell', 'teaching', 'objectivity', 'public sector experience', 'data visualisation', 'mpls', 'mongodb', 'practical malware analysis', 'google ads', 'support process', 'full stack development', 'google analytics', 'google go programming language', 'quality of service (qos)', 'mac os', 'public relations management'}\n",
      "\n",
      "Exclusive to 2018-01-01 to 2019-01-01\n",
      "\n",
      "{'work shifts/irregular hours', 'cisco webex', 'it service management', 'marketing communications', 'crisis management', 'industrial engineering', 'cost containment', 'data structure', 'contract management', 'business communication', 'product design', 'campaign management', 'spss', 'employment law', 'infrastructure-as-a-service (iaas)', 'market analysis', 'industrial design', 'publishing', 'lightweight directory access protocol', 'ccie', 'resource management', 'experience in corporate environment', 'investment banking', 'search engine optimization (seo)', 'bahasa indonesia', 'lifelong learning', 'enterprise web architecture', 'microsoft project', 'micro-services', 'quick-witted', 'apache hive', 'channel management', 'mobile technology', 'acca (association of chartered certified accountants)', 'kubernetes', 'predictive modelling', 'b2b marketing', 'kanban', 'service management', 'predictive analytics', 'platform-as-a-service (paas)', 'public speaking', 'strategic/business transformation', 'fraud management', 'interaction design (ixd)', 'security operations', 'marketing audit', 'bgp (border gateway protocol)', 'pricing strategy', 'test-driven development', 'cantonese language', 'quality systems', 'data collection', 'benchmarking', 'active directory', 'capital market', 'content generation', 'social media (youtube)', 'tax reporting', 'fintech', 'physics', 'diagrams and drawings', 'objective c', 'persuasion', 'cryptocurrency', 'credit control', 'ospf', 'financial products', 'apache hbase', 'hr business partner', 'public policy', 'journalism'}\n",
      "\n",
      "Exclusive to 2018-01-01 to 2020-01-01\n",
      "\n",
      "{'visual design', 'statistical analysis', 'security monitoring', 'construction', 'merger and acquisition', 'cross-selling', 'parallel programming', 'apache subversion (svn)', 'google adwords', 'siem platforms', 'video editing', 'animation', 'deep learning', 'data migration', 'engineering design', 'vue.js', 'customer retention', 'matlab', 'technology management', 'diplomatic', 'microsoft sharepoint', 'operations management', 'redis', 'wordpress', 'life science', 'radio frequency', 'financial accounting', 'e-mail marketing', 'employee engagement', 'design thinking', 'encryption/cryptography', 'manufacturing workflow', 'gcp (good clinical practice)', 'waterfall model', 'network theorems', 'preventive maintenance', 'knowledge management', 'pos system', 'invoicing', 'rapid prototyping', 'copywriting', 'application security design', 'penetration testing', 'apache tomcat', 'videography', 'network systems', 'order confirmation management', 'accounts payable accounting', 'event management', 'visual communication', 'employee assessment', 'pl/sql', 'proxy', 'visual merchandising', 'vulnerability management', 'personal data protection act', 'spring boot framework', 'apache struts', 'internet information services', 'oracle database', 'graphic design', 'patch management', 'bitbucket', 'system testing', 'hospitality', 'biometrics', 'managed security services (mss)', 'elasticsearch'}\n",
      "\n",
      "Comparing 2019-01-01 to 2020-01-01 with 2018-01-01 to 2020-01-01\n",
      "\n",
      "# of skills shared and exclusive to each date (in order)\n",
      "58 118 76\n",
      "\n",
      "The skills themselves:\n",
      "\n",
      "Shared:\n",
      "\n",
      "{'statistical analysis', 'microsoft office 365', 'security monitoring', 'cross-selling', 'social media (whatsapp)', 'search-engine marketing', 'video editing', 'accident and incident response management', 'terraform', 'ruby', 'confluence', 'corporate communications', 'data migration', 'financial audit', 'engineering design', 'customer retention', 'photography', 'diplomatic', 'life science', 'radio frequency', 'financial accounting', 'service oriented architecture', 'dynamic host configuration protocol', 'e-mail marketing', 'design thinking', 'gcp (good clinical practice)', 'manufacturing workflow', 'preventive maintenance', 'pos system', 'invoicing', 'penetration testing', 'apache tomcat', 'network systems', 'order confirmation management', 'accounts payable accounting', 'event management', 'architectural design', 'visual communication', 'employee assessment', 'teaching', 'vulnerability management', 'personal data protection act', 'visual merchandising', 'mpls', 'practical malware analysis', 'apache struts', 'graphic design', 'oracle database', 'patch management', 'system testing', 'biometrics', 'support process', 'full stack development', 'managed security services (mss)', 'google analytics', 'hospitality', 'quality of service (qos)', 'mac os'}\n",
      "\n",
      "Exclusive to 2019-01-01 to 2020-01-01\n",
      "\n",
      "{'virtual desktop infrastructure (vdi)', 'marine & offshore', 'defensive programming', 'bioinformatics', 'publishing', 'promotion mechanism', 'process analysis', 'lifelong learning', 'disaster recovery planning', 'biopharmaceutical', 'business deal management', 'web design', 'staff onboarding', 'systematic risk management', 'theatre and performing arts', 'end-user computing', 'internal control', 'wpf (windows presentation foundation)', 'technical writing', 'esb (enterprise service bus)', 'clinical research', 'tender management', 'policy implementation', 'database administration', 'chemistry', 'software development methodologies', 'portfolio management', 'recruitment policy', 'fea (finite element analysis)', 'molecular biology', 'openstack', 'keras', 'cell culture', 'application maintenance', 'adobe creative suite', 'cyber security compliance', 'cad (computer aided design)', 'adobe marketo', 'channel management', 'fault diagnosis', 'building management system', 'wealth management', 'cancer biology', 'cisco certified network professional', 'master data governance', 'italian language', 'voip', 'statistical process control', 'openshift', 'observe high level of hygiene', 'outsystems', 'vmware certified professional', 'biochemistry', 'medical disease', 'semiconductor', 'printed circuit board assembly (pcba)', 'salt (python)', 'system audit', 'certified information security manager (cism)', 'csd (cross spectral density)', 'user experience evaluation', 'incident reporting', 'tender document preparation', 'rfi management', 'geographic information system (gis)', 'data recovery', 'enterprise web architecture', 'cisco asa', 'microsoft certified solution associate', 'system operations', 'certified information systems auditor (cisa)', 'database security', 'telecommunications engineering', 'web application firewall (waf)', 'soldering', 'team development', 'microsoft hyper-v', 'embraces diversity', 'effectively multilingual', 'mechanical calibration', 'computer systems', 'esx', 'anti-virus programming', 'genomics', 'sales statistics', 'system implementation', 'system maintenance', 'fault rectification', 'bluecoat', 'german language', 'autocad', 'material science', 'journalism', 'biotechnology', 'solidworks', 'microsoft dynamics nav', 'gui programming', 'mass communication', 'endpoint security', 'audio-visual equipment', 'original equipment manufacturer (oem)', 'adobe indesign', 'possess driving licence', 'market environment', 'microsoft certified solution expert', 'ddos', 'video analytics', 'health insurance', 'sales prospecting', 'identity access management', 'immunology', 'network building', 'it administration', 'electronics engineering', 'wide area network configuration', 'it operations management (itom)', 'printed circuit board (pcb)', 'adobe premiere pro'}\n",
      "\n",
      "Exclusive to 2018-01-01 to 2020-01-01\n",
      "\n",
      "{'visual design', 'construction', 'postgresql', 'merger and acquisition', 'vietnamese language', 'parallel programming', 'apache subversion (svn)', 'google adwords', 'siem platforms', 'source code', 'korean language', 'data wrangling', 'shell scripts', 'financial system', 'animation', 'deep learning', 'tensorflow', 'front-end development', 'vue.js', 'redis', 'matlab', 'technology management', 'wordpress', 'microsoft sharepoint', 'operations management', 'goods and services tax (gst)', 'business intelligence (bi) tools', 'data/text mining', 'sas', 'scala', 'wireframes', 'ansible', 'supply chain management', 'quantitative analysis', 'github', 'blockchain technology', 'partnership establishment', 'employee engagement', 'thai language', 'encryption/cryptography', 'database optimisation', 'waterfall model', 'network theorems', 'microsoft visio', 'process optimisation', 'knowledge management', 'qlikview', 'public relations management', 'rapid prototyping', 'vb', 'swift', 'copywriting', 'application security design', 'soap', 'apache kafka', 'software quality', 'natural language processing (nlp)', 'videography', 'data quality control', 'bootstrap', 'aml/cft', 'ibm websphere', 'organic/polymer chemistry', 'pl/sql', 'proxy', 'powershell', 'objectivity', 'public sector experience', 'data visualisation', 'spring boot framework', 'mongodb', 'bitbucket', 'google ads', 'internet information services', 'google go programming language', 'elasticsearch'}\n"
     ]
    }
   ],
   "source": [
    "compare_emerging_skill_sets(emerging_skills, start_and_end_dates)"
   ]
  },
  {
   "cell_type": "code",
   "execution_count": 34,
   "metadata": {},
   "outputs": [
    {
     "data": {
      "text/plain": [
       "<matplotlib.axes._subplots.AxesSubplot at 0x1a23fd5978>"
      ]
     },
     "execution_count": 34,
     "metadata": {},
     "output_type": "execute_result"
    },
    {
     "data": {
      "image/png": "[encoded data removed]",
      "text/plain": [
       "<Figure size 432x288 with 1 Axes>"
      ]
     },
     "metadata": {
      "needs_background": "light"
     },
     "output_type": "display_data"
    }
   ],
   "source": [
    "skill_trends[0].Slope.hist(bins=200)"
   ]
  },
  {
   "cell_type": "markdown",
   "metadata": {},
   "source": [
    "Interestingly, as this plot and the summary statistics show, the Slope values are way more skewed to the right here, and the Generalised Normals that we had used before will fail."
   ]
  },
  {
   "cell_type": "code",
   "execution_count": 35,
   "metadata": {},
   "outputs": [
    {
     "data": {
      "image/png": "[encoded data removed]",
      "text/plain": [
       "<Figure size 432x288 with 1 Axes>"
      ]
     },
     "metadata": {
      "needs_background": "light"
     },
     "output_type": "display_data"
    }
   ],
   "source": [
    "skills_df[['Skill', 'Job Postings Raw']].groupby('Skill').sum().\\\n",
    "                        hist(bins = 100)\n",
    "plt.yscale('log')"
   ]
  },
  {
   "cell_type": "code",
   "execution_count": 38,
   "metadata": {},
   "outputs": [
    {
     "data": {
      "image/png": "[encoded data removed]",
      "text/plain": [
       "<Figure size 432x288 with 1 Axes>"
      ]
     },
     "metadata": {
      "needs_background": "light"
     },
     "output_type": "display_data"
    }
   ],
   "source": [
    "skills_df[['Skill', 'Job Postings Raw']].groupby('Skill').sum().\\\n",
    "                        hist(bins = np.logspace(np.log(1), np.log(20000), 50))\n",
    "plt.yscale('log')\n",
    "plt.xscale('log')"
   ]
  },
  {
   "cell_type": "code",
   "execution_count": 90,
   "metadata": {},
   "outputs": [
    {
     "data": {
      "text/plain": [
       "((array([-2.74960467, -2.51759973, -2.38868915, ...,  3.16005943,\n",
       "          3.29518963,  3.53905541]),\n",
       "  array([-0.51543461, -0.45090296, -0.32741499, ...,  5.58537533,\n",
       "          5.83963786,  8.3392656 ])),\n",
       " (0.5039840005675382, 0.07746953852353097, 0.6768923146952532))"
      ]
     },
     "execution_count": 90,
     "metadata": {},
     "output_type": "execute_result"
    },
    {
     "data": {
      "image/png": "[encoded data removed]",
      "text/plain": [
       "<Figure size 432x288 with 1 Axes>"
      ]
     },
     "metadata": {
      "needs_background": "light"
     },
     "output_type": "display_data"
    }
   ],
   "source": [
    "probplot(skill_trends[0].Slope.values, dist=stats.skewnorm, \n",
    "         sparams=(.5), fit=True, plot=plt)"
   ]
  },
  {
   "cell_type": "code",
   "execution_count": 114,
   "metadata": {},
   "outputs": [
    {
     "data": {
      "text/plain": [
       "((array([3.72840900e-18, 3.14160141e-16, 3.23649076e-15, ...,\n",
       "         3.82818706e+00, 4.22771036e+00, 4.99957545e+00]),\n",
       "  array([-0.91126191, -0.76629827, -0.74823349, ...,  4.27940094,\n",
       "          4.76970007,  5.23202431])),\n",
       " (1.0418927208432172, -0.09835241842808586, 0.9632096449240837))"
      ]
     },
     "execution_count": 114,
     "metadata": {},
     "output_type": "execute_result"
    },
    {
     "data": {
      "image/png": "[encoded data removed]",
      "text/plain": [
       "<Figure size 432x288 with 1 Axes>"
      ]
     },
     "metadata": {
      "needs_background": "light"
     },
     "output_type": "display_data"
    }
   ],
   "source": [
    "probplot(skill_trends[1].Slope.values, dist=stats.gamma, \n",
    "         sparams=(.2), fit=True, plot=plt)"
   ]
  },
  {
   "cell_type": "markdown",
   "metadata": {},
   "source": [
    "So the tail of the slope is very Gamma-ey, but it's not a Gamma because slopes can be negative. This can be solved by using a skewed Laplace distribution."
   ]
  },
  {
   "cell_type": "code",
   "execution_count": 107,
   "metadata": {},
   "outputs": [
    {
     "data": {
      "text/plain": [
       "((array([0.1293851 , 0.16669401, 0.19045893, ..., 5.25047581, 5.99901562,\n",
       "         7.72886535]),\n",
       "  array([-0.51543461, -0.45090296, -0.32741499, ...,  5.58537533,\n",
       "          5.83963786,  8.3392656 ])),\n",
       " (1.2498565143218137, -1.101599628625025, 0.931641391619229))"
      ]
     },
     "execution_count": 107,
     "metadata": {},
     "output_type": "execute_result"
    },
    {
     "data": {
      "image/png": "[encoded data removed]",
      "text/plain": [
       "<Figure size 432x288 with 1 Axes>"
      ]
     },
     "metadata": {
      "needs_background": "light"
     },
     "output_type": "display_data"
    }
   ],
   "source": [
    "probplot(skill_trends[0].Slope.values, dist=stats.loglaplace, \n",
    "         sparams=(3.5), fit=True, plot=plt)"
   ]
  },
  {
   "cell_type": "code",
   "execution_count": 81,
   "metadata": {},
   "outputs": [
    {
     "data": {
      "text/plain": [
       "AndersonResult(statistic=166.07368708273384, critical_values=array([0.472, 0.634, 0.753, 0.873, 1.033]), significance_level=array([25. , 10. ,  5. ,  2.5,  1. ]))"
      ]
     },
     "execution_count": 81,
     "metadata": {},
     "output_type": "execute_result"
    }
   ],
   "source": [
    "anderson(skill_trends[0].Slope.values, dist='gumbel_r')"
   ]
  },
  {
   "cell_type": "code",
   "execution_count": null,
   "metadata": {},
   "outputs": [],
   "source": []
  }
 ],
 "metadata": {
  "kernelspec": {
   "display_name": "Python 3",
   "language": "python",
   "name": "python3"
  },
  "language_info": {
   "codemirror_mode": {
    "name": "ipython",
    "version": 3
   },
   "file_extension": ".py",
   "mimetype": "text/x-python",
   "name": "python",
   "nbconvert_exporter": "python",
   "pygments_lexer": "ipython3",
   "version": "3.7.1"
  }
 },
 "nbformat": 4,
 "nbformat_minor": 2
}
