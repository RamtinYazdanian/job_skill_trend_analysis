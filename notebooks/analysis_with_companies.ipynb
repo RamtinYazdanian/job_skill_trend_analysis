{
 "cells": [
  {
   "cell_type": "code",
   "execution_count": 1,
   "metadata": {},
   "outputs": [],
   "source": [
    "import numpy as np\n",
    "import pandas as pd\n",
    "import os\n",
    "import pickle\n",
    "from datetime import datetime\n",
    "import matplotlib.pyplot as plt\n",
    "from sklearn.linear_model import LinearRegression, Ridge\n",
    "from sklearn.preprocessing import PolynomialFeatures\n",
    "%matplotlib inline"
   ]
  },
  {
   "cell_type": "code",
   "execution_count": 2,
   "metadata": {},
   "outputs": [],
   "source": [
    "us_data_path = '/Users/ramtinyazdanian/Downloads/per_company_old/per company files/'\n",
    "#sg_data_path = '/Users/ramtinyazdanian/Downloads/sg_it_skills_2018_2019_15days/'\n",
    "\n",
    "us_sheet_map = {'Report1_Data': 'companies', 'Report2_Data': 'titles', 'Report3_Data': 'skill_clusters', \n",
    "                    'Report4_Data_specialized': 'specialised_skills', 'Report4_Data_baseline': 'baseline_skills',\n",
    "                    'Report4_Data_software': 'programming_skills'}\n",
    "\n",
    "# sg_sheet_map = {'Report1_Data': 'companies', 'Report2_Data': 'skill_clusters', \n",
    "#                     'Report3_Data_specialised': 'specialised_skills', 'Report3_Data_baseline': 'baseline_skills',\n",
    "#                     'Report3_Data_software and progr': 'programming_skills'}\n",
    "\n",
    "actual_sheet_map = us_sheet_map\n",
    "root_data_path = us_data_path\n",
    "all_filenames = os.listdir(root_data_path)\n",
    "sheets_to_get = ['Filters']+list(actual_sheet_map.keys())\n",
    "\n",
    "all_dataframes = [pd.read_excel(os.path.join(root_data_path,filename), sheet_name=sheets_to_get) \n",
    "                  for filename in all_filenames if filename[-4:] == 'xlsx' and filename[0] != '~']\n",
    "\n"
   ]
  },
  {
   "cell_type": "code",
   "execution_count": 3,
   "metadata": {},
   "outputs": [],
   "source": [
    "time_period_index = -1\n",
    "for i in range(all_dataframes[0]['Filters'].shape[0]):\n",
    "    if all_dataframes[0]['Filters'].iloc[i][0] == 'Time Period:':\n",
    "        time_period_index = i\n",
    "        break\n",
    "\n",
    "ad_count_index = -1\n",
    "for i in range(all_dataframes[0]['Filters'].shape[0]):\n",
    "    if all_dataframes[0]['Filters'].iloc[i][0] == 'Postings available with the current filters applied:':\n",
    "        ad_count_index = i\n",
    "        break\n",
    "        \n",
    "company_index = -1\n",
    "for i in range(all_dataframes[0]['Filters'].shape[0]):\n",
    "    if all_dataframes[0]['Filters'].iloc[i][0] == 'Employer with:':\n",
    "        company_index = i\n",
    "        break\n",
    "\n",
    "all_dataframes_dict = {all_dataframes[i]['Filters'].iloc[company_index][1].strip('\"') + '~' +\n",
    "                       all_dataframes[i]['Filters'].iloc[time_period_index][1].strip('Custom range (').strip(') '):\n",
    "                       {v:all_dataframes[i][k].drop(columns=\n",
    "                                            [x for x in all_dataframes[i][k].columns.values if 'Unnamed:' in x]) \n",
    "                        for k,v in actual_sheet_map.items()}\n",
    "                       for i in range(len(all_dataframes))}\n",
    "\n",
    "ad_counts_dict = {all_dataframes[i]['Filters'].iloc[company_index][1].strip('\"') + '~' + \n",
    "                  all_dataframes[i]['Filters'].iloc[time_period_index][1].strip('Custom range (').strip(') '): \n",
    "                  all_dataframes[i]['Filters'].iloc[ad_count_index][1] for i in range(len(all_dataframes))}"
   ]
  },
  {
   "cell_type": "code",
   "execution_count": 4,
   "metadata": {},
   "outputs": [],
   "source": [
    "def get_concatenated_df_with_dates(df_dict, sheet_name, normalising_dict=None, use_log=False):\n",
    "    if normalising_dict is None:\n",
    "        return pd.concat([df_dict[k][sheet_name].assign(Company = k.split('~')[0]).assign(Date = \n",
    "                                   datetime.strptime(k.split('~')[1].split('-')[0].strip(), '%b. %d, %Y')) \n",
    "                                   for k in df_dict]).reset_index().drop(columns='index')\n",
    "    else:\n",
    "        result = pd.concat([df_dict[k][sheet_name].assign(Company = k.split('~')[0]).assign(Date = \n",
    "                                   datetime.strptime(k.split('~')[1].split('-')[0].strip(), '%b. %d, %Y')).\n",
    "                                   assign(Total = normalising_dict[k])\n",
    "                                   for k in df_dict]).reset_index().drop(columns='index')\n",
    "        result['Job Postings Raw'] = result['Job Postings']\n",
    "        if use_log:\n",
    "            result['Job Postings'] = result['Job Postings'].apply(np.log)/result['Total'].apply(np.log)\n",
    "        else:\n",
    "            result['Job Postings'] = result['Job Postings']/result['Total']\n",
    "        return result"
   ]
  },
  {
   "cell_type": "code",
   "execution_count": 5,
   "metadata": {},
   "outputs": [],
   "source": [
    "def delete_low_freq_skills(df, min_freq):  \n",
    "    skill_counts = df.groupby('Skill').count().reset_index()\n",
    "    low_count_skills = skill_counts.loc[skill_counts['Job Postings'] < min_freq].Skill.values\n",
    "    return df.loc[df.Skill.apply(lambda x: x not in low_count_skills)]\n",
    "    \n",
    "def get_period_of_time(df, start, end):\n",
    "    return df.loc[(df.Date >= start) & (df.Date < end)]\n",
    "\n",
    "def fill_in_the_blank_dates(df, method='min', has_company=True):\n",
    "    columns_list = ['Job Postings', 'Job Postings Raw', 'Total']\n",
    "    if has_company:\n",
    "        base_cols = ['Date', 'Company']\n",
    "    else:\n",
    "        base_cols = ['Date']\n",
    "    filling_df = df[base_cols+columns_list].groupby(base_cols)\n",
    "    if method == 'min':\n",
    "        filling_df = filling_df.min()\n",
    "    elif method == 'mean':\n",
    "        filling_df = filling_df.mean()\n",
    "    elif method == 'median':\n",
    "        filling_df = filling_df.median()\n",
    "    elif method == 'zero':\n",
    "        filling_df = filling_df.min()\n",
    "        for col in columns_list:\n",
    "            if col != 'Total':\n",
    "                filling_df[col] = 0\n",
    "    else:\n",
    "        return df\n",
    "    filling_df = filling_df.reset_index().assign(key_col=1)\n",
    "    skills_only_df = df[['Skill']].drop_duplicates().assign(key_col=1)\n",
    "    print('Number of skills: '+str(skills_only_df.shape[0]))\n",
    "    filling_df = pd.merge(filling_df, skills_only_df, on='key_col').drop(columns=['key_col'])\n",
    "    result_df = pd.merge(df, filling_df, how='right', on=['Skill']+base_cols, \n",
    "                         suffixes=('_actual', '_filled'))\n",
    "    \n",
    "    for col in columns_list:\n",
    "        result_df[col+'_filled'] = result_df.apply(lambda x: x[col+'_filled'] if pd.isnull(x[col+'_actual']) else \n",
    "                                                  x[col+'_actual'], axis=1)\n",
    "    result_df = result_df.drop(columns = [x+'_actual' for x in columns_list]).rename(\n",
    "                                    columns={x+'_filled':x for x in columns_list})\n",
    "    return result_df\n",
    "\n",
    "def group_time_steps_together(df, steps_to_group=3, has_company=True):\n",
    "    if steps_to_group == 1:\n",
    "        return df\n",
    "    if has_company:\n",
    "        base_cols = ['Date', 'Company']\n",
    "    else:\n",
    "        base_cols = ['Date']\n",
    "    dates_df = df[base_cols].drop_duplicates().sort_values(base_cols).reset_index().drop(columns=['index'])\n",
    "    dates_df['group'] = pd.Series(list(range(dates_df.shape[0])))\n",
    "    dates_df['group'] = dates_df['group'].apply(lambda x: 1 + (x//steps_to_group))\n",
    "    print(dates_df)\n",
    "    min_dates = dates_df.groupby('group').min().reset_index()\n",
    "    result_df = pd.merge(df, dates_df, on=base_cols).drop(columns=['Date']).groupby(['group', 'Skill']).mean().\\\n",
    "                                    reset_index()\n",
    "    result_df = pd.merge(result_df, min_dates, on='group').drop(columns=['group'])\n",
    "    return result_df"
   ]
  },
  {
   "cell_type": "code",
   "execution_count": 6,
   "metadata": {},
   "outputs": [],
   "source": [
    "def linreg_jobpostings(df, y_col='Job Postings', normaliser=None):\n",
    "    if normaliser is None:\n",
    "        y = PolynomialFeatures(degree=2, include_bias=False).fit_transform(df[['Job Postings']].values)\n",
    "    else:\n",
    "        y = PolynomialFeatures(degree=2, include_bias=False).fit_transform(df[['Job Postings']].values - \n",
    "                                                                           normaliser[['Total']].values)\n",
    "    X = df[['Date']].values\n",
    "    X = (X - X.min()).astype('timedelta64[D]') / np.timedelta64(1, 'D') / 30\n",
    "    result_model = LinearRegression()\n",
    "    result_model.fit(X, y) # Weighting the first point makes no conceptual sense because the 1st point isn't special.\n",
    "    spike_value = y.max() / y.mean()\n",
    "    return result_model.coef_[0][0], result_model.coef_[1][0], spike_value, result_model.intercept_[0]"
   ]
  },
  {
   "cell_type": "code",
   "execution_count": 7,
   "metadata": {},
   "outputs": [],
   "source": [
    "def get_trend_slope_intercept(group_col_and_trends):\n",
    "    group_col_and_trends['Slope'] = group_col_and_trends[0].apply(lambda x: x[0] if not \n",
    "                                                                               pd.isna(x) else np.nan)\n",
    "    group_col_and_trends['Intercept'] = group_col_and_trends[0].apply(lambda x: x[3] if not \n",
    "                                                                               pd.isna(x) else np.nan)\n",
    "    group_col_and_trends['Acceleration'] = group_col_and_trends[0].apply(lambda x: x[1] if not \n",
    "                                                                               pd.isna(x) else np.nan)\n",
    "    group_col_and_trends['Spikiness'] = group_col_and_trends[0].apply(lambda x: x[2] if not \n",
    "                                                                               pd.isna(x) else np.nan)\n",
    "    group_col_and_trends = group_col_and_trends.drop(columns=0)\n",
    "    return group_col_and_trends"
   ]
  },
  {
   "cell_type": "code",
   "execution_count": 8,
   "metadata": {},
   "outputs": [],
   "source": [
    "def get_set_of_companies(df, companies):\n",
    "    return df.loc[df.Company.apply(lambda x: x in companies)].copy()"
   ]
  },
  {
   "cell_type": "code",
   "execution_count": 9,
   "metadata": {},
   "outputs": [],
   "source": [
    "def compute_total_log_mean(df):\n",
    "    \"\"\"\n",
    "    For each date, computes the average, among all companies, of the log of their total number of ads.\n",
    "    \"\"\"\n",
    "    return df[['Date', 'Company', 'Total']].drop_duplicates().drop(columns=['Company'])\\\n",
    "                    .groupby('Date').apply(lambda x: np.mean(x['Total'].apply(np.log))).reset_index().rename(\n",
    "                                                            columns={0: 'Total'})\n",
    "\n",
    "def compute_total_values(df):\n",
    "    return df[['Date', 'Company', 'Total']].drop_duplicates().groupby('Date').\\\n",
    "                                                                sum().reset_index()\n",
    "\n",
    "def logsum_trend_slope_wrapper(df, starting_date, end_date, total_log, min_freq=1, grouping=1, nafill='zero'):\n",
    "    \"\"\"\n",
    "    Computes the dataframe containing the log sum trends (slope, intercept, acceleration, etc.) based on \n",
    "    a skills dataframe. The starting dataframe needs to have the columns 'Date', 'Skill', and \n",
    "    'Job Postings Raw', and needs to be company-level. The log of the company-level values is taken, \n",
    "    and then they are summed up, grouped by skill and date.\n",
    "    \"\"\"\n",
    "    print('Start: ' + str(starting_date))\n",
    "    print('End: ' + str(end_date))\n",
    "    df = get_period_of_time(df, starting_date, end_date).copy()\n",
    "    skills_raw_sums = df[['Skill', 'Job Postings Raw']].groupby('Skill').sum()\n",
    "    df['Job Postings'] = df['Job Postings Raw'].apply(lambda x: np.log(1+x))\n",
    "    df = df.groupby(['Date', 'Skill']).sum().reset_index()\n",
    "\n",
    "    df_with_trends_pooled = pd.DataFrame(\n",
    "        fill_in_the_blank_dates(\n",
    "            group_time_steps_together(\n",
    "                delete_low_freq_skills(df, min_freq), \n",
    "                            steps_to_group=grouping, has_company=False), method=nafill, has_company=False).\n",
    "                                 groupby('Skill').apply(lambda x: \n",
    "                                    linreg_jobpostings(x, normaliser=\n",
    "                                           get_period_of_time(total_log, starting_date, \n",
    "                                                              end_date))))\n",
    "    df_with_trends_pooled = get_trend_slope_intercept(df_with_trends_pooled)\n",
    "    print(df_with_trends_pooled.sort_values('Slope', ascending=False).describe())\n",
    "    return df_with_trends_pooled.join(skills_raw_sums)\n",
    "\n",
    "def threshold_logsum_trends_simple(df_with_trends, total, slope_percentile_thresh = 0.95, \n",
    "                                   slope_thresh = None, pop_lower=0.001, pop_upper=0.01):\n",
    "    pop_lower = pop_lower*total\n",
    "    pop_upper = pop_upper*total\n",
    "    if slope_percentile_thresh is not None:\n",
    "        slope_thresh = df_with_trends.Slope.quantile(slope_percentile_thresh)\n",
    "    return df_with_trends.loc[(df_with_trends['Slope'] >= np.log(1+slope_thresh)) & \n",
    "                              (df_with_trends['Job Postings Raw'] >= pop_lower) &\n",
    "                              (df_with_trends['Job Postings Raw'] < pop_upper)].reset_index()"
   ]
  },
  {
   "cell_type": "code",
   "execution_count": 10,
   "metadata": {},
   "outputs": [],
   "source": [
    "def compute_prec_recall(predicted_set, reference_set):\n",
    "    predicted_set = predicted_set.Skill.values\n",
    "    reference_set = reference_set.Skill.values\n",
    "    accurately_predicted = set(reference_set).intersection(set(predicted_set))\n",
    "    print(accurately_predicted)\n",
    "    print(len(accurately_predicted), len(predicted_set), len(reference_set))\n",
    "    if len(predicted_set) > 0:\n",
    "        prec = len(accurately_predicted) / len(predicted_set)\n",
    "        recall = len(accurately_predicted) / len(reference_set)\n",
    "        f1 = 2*prec*recall / (prec+recall)\n",
    "    else:\n",
    "        prec = 0\n",
    "        recall = 0\n",
    "        f1 = 0\n",
    "    return prec, recall, f1"
   ]
  },
  {
   "cell_type": "code",
   "execution_count": 11,
   "metadata": {},
   "outputs": [],
   "source": [
    "skill_clusters_df = get_concatenated_df_with_dates(all_dataframes_dict, \n",
    "                                   'skill_clusters', normalising_dict=ad_counts_dict).\\\n",
    "                                   sort_values(['Company', 'Date', 'Job Postings'], ascending=[True, True, False]).\\\n",
    "                                   reset_index().drop(columns='index')\n",
    "skills_df = get_concatenated_df_with_dates(all_dataframes_dict, \n",
    "                                   'specialised_skills', normalising_dict=ad_counts_dict, use_log=False).\\\n",
    "                                   sort_values(['Company', 'Date', 'Job Postings'], ascending=[True, True, False]).\\\n",
    "                                   reset_index().drop(columns='index')\n",
    "prog_skills_df = get_concatenated_df_with_dates(all_dataframes_dict, \n",
    "                                   'programming_skills', normalising_dict=ad_counts_dict, use_log=False).\\\n",
    "                                   sort_values(['Company', 'Date', 'Job Postings'], ascending=[True, True, False]).\\\n",
    "                                   reset_index().drop(columns='index')"
   ]
  },
  {
   "cell_type": "code",
   "execution_count": 12,
   "metadata": {},
   "outputs": [
    {
     "data": {
      "text/html": [
       "<div>\n",
       "<style scoped>\n",
       "    .dataframe tbody tr th:only-of-type {\n",
       "        vertical-align: middle;\n",
       "    }\n",
       "\n",
       "    .dataframe tbody tr th {\n",
       "        vertical-align: top;\n",
       "    }\n",
       "\n",
       "    .dataframe thead th {\n",
       "        text-align: right;\n",
       "    }\n",
       "</style>\n",
       "<table border=\"1\" class=\"dataframe\">\n",
       "  <thead>\n",
       "    <tr style=\"text-align: right;\">\n",
       "      <th></th>\n",
       "      <th>Date</th>\n",
       "      <th>Total</th>\n",
       "    </tr>\n",
       "  </thead>\n",
       "  <tbody>\n",
       "    <tr>\n",
       "      <td>0</td>\n",
       "      <td>2018-01-01</td>\n",
       "      <td>39837</td>\n",
       "    </tr>\n",
       "    <tr>\n",
       "      <td>1</td>\n",
       "      <td>2018-04-01</td>\n",
       "      <td>40739</td>\n",
       "    </tr>\n",
       "    <tr>\n",
       "      <td>2</td>\n",
       "      <td>2018-07-01</td>\n",
       "      <td>49138</td>\n",
       "    </tr>\n",
       "    <tr>\n",
       "      <td>3</td>\n",
       "      <td>2018-10-01</td>\n",
       "      <td>44802</td>\n",
       "    </tr>\n",
       "    <tr>\n",
       "      <td>4</td>\n",
       "      <td>2019-01-01</td>\n",
       "      <td>28256</td>\n",
       "    </tr>\n",
       "    <tr>\n",
       "      <td>5</td>\n",
       "      <td>2019-04-01</td>\n",
       "      <td>27372</td>\n",
       "    </tr>\n",
       "    <tr>\n",
       "      <td>6</td>\n",
       "      <td>2019-07-01</td>\n",
       "      <td>27014</td>\n",
       "    </tr>\n",
       "    <tr>\n",
       "      <td>7</td>\n",
       "      <td>2019-10-01</td>\n",
       "      <td>30174</td>\n",
       "    </tr>\n",
       "  </tbody>\n",
       "</table>\n",
       "</div>"
      ],
      "text/plain": [
       "        Date  Total\n",
       "0 2018-01-01  39837\n",
       "1 2018-04-01  40739\n",
       "2 2018-07-01  49138\n",
       "3 2018-10-01  44802\n",
       "4 2019-01-01  28256\n",
       "5 2019-04-01  27372\n",
       "6 2019-07-01  27014\n",
       "7 2019-10-01  30174"
      ]
     },
     "execution_count": 12,
     "metadata": {},
     "output_type": "execute_result"
    }
   ],
   "source": [
    "quarterly_totals = compute_total_values(skill_clusters_df)\n",
    "quarterly_totals"
   ]
  },
  {
   "cell_type": "code",
   "execution_count": 13,
   "metadata": {},
   "outputs": [
    {
     "data": {
      "text/html": [
       "<div>\n",
       "<style scoped>\n",
       "    .dataframe tbody tr th:only-of-type {\n",
       "        vertical-align: middle;\n",
       "    }\n",
       "\n",
       "    .dataframe tbody tr th {\n",
       "        vertical-align: top;\n",
       "    }\n",
       "\n",
       "    .dataframe thead th {\n",
       "        text-align: right;\n",
       "    }\n",
       "</style>\n",
       "<table border=\"1\" class=\"dataframe\">\n",
       "  <thead>\n",
       "    <tr style=\"text-align: right;\">\n",
       "      <th></th>\n",
       "      <th>Date</th>\n",
       "      <th>Total</th>\n",
       "    </tr>\n",
       "  </thead>\n",
       "  <tbody>\n",
       "    <tr>\n",
       "      <td>0</td>\n",
       "      <td>2018-01-01</td>\n",
       "      <td>6.189489</td>\n",
       "    </tr>\n",
       "    <tr>\n",
       "      <td>1</td>\n",
       "      <td>2018-04-01</td>\n",
       "      <td>6.240892</td>\n",
       "    </tr>\n",
       "    <tr>\n",
       "      <td>2</td>\n",
       "      <td>2018-07-01</td>\n",
       "      <td>6.567636</td>\n",
       "    </tr>\n",
       "    <tr>\n",
       "      <td>3</td>\n",
       "      <td>2018-10-01</td>\n",
       "      <td>6.494223</td>\n",
       "    </tr>\n",
       "    <tr>\n",
       "      <td>4</td>\n",
       "      <td>2019-01-01</td>\n",
       "      <td>6.249406</td>\n",
       "    </tr>\n",
       "    <tr>\n",
       "      <td>5</td>\n",
       "      <td>2019-04-01</td>\n",
       "      <td>6.221829</td>\n",
       "    </tr>\n",
       "    <tr>\n",
       "      <td>6</td>\n",
       "      <td>2019-07-01</td>\n",
       "      <td>6.202909</td>\n",
       "    </tr>\n",
       "    <tr>\n",
       "      <td>7</td>\n",
       "      <td>2019-10-01</td>\n",
       "      <td>6.312023</td>\n",
       "    </tr>\n",
       "  </tbody>\n",
       "</table>\n",
       "</div>"
      ],
      "text/plain": [
       "        Date     Total\n",
       "0 2018-01-01  6.189489\n",
       "1 2018-04-01  6.240892\n",
       "2 2018-07-01  6.567636\n",
       "3 2018-10-01  6.494223\n",
       "4 2019-01-01  6.249406\n",
       "5 2019-04-01  6.221829\n",
       "6 2019-07-01  6.202909\n",
       "7 2019-10-01  6.312023"
      ]
     },
     "execution_count": 13,
     "metadata": {},
     "output_type": "execute_result"
    }
   ],
   "source": [
    "total_log = compute_total_log_mean(skill_clusters_df)\n",
    "total_log"
   ]
  },
  {
   "cell_type": "code",
   "execution_count": 14,
   "metadata": {},
   "outputs": [],
   "source": [
    "start_and_end_dates = [(np.datetime64('2018-01-01'), np.datetime64('2019-01-01')), \n",
    "                       (np.datetime64('2019-01-01'), np.datetime64('2020-01-01')),\n",
    "                       (np.datetime64('2018-01-01'), np.datetime64('2020-01-01'))]\n",
    "total_values = [get_period_of_time(quarterly_totals, start_and_end_dates[i][0], start_and_end_dates[i][1]).sum()[0]\n",
    "                for i in range(len(start_and_end_dates))]\n",
    "n_years = [1,1,2]"
   ]
  },
  {
   "cell_type": "code",
   "execution_count": 15,
   "metadata": {},
   "outputs": [
    {
     "data": {
      "text/plain": [
       "[174516, 112816, 287332]"
      ]
     },
     "execution_count": 15,
     "metadata": {},
     "output_type": "execute_result"
    }
   ],
   "source": [
    "total_values"
   ]
  },
  {
   "cell_type": "code",
   "execution_count": 16,
   "metadata": {
    "scrolled": true
   },
   "outputs": [
    {
     "name": "stdout",
     "output_type": "stream",
     "text": [
      "Skill Clusters\n",
      "Start: 2018-01-01\n",
      "End: 2019-01-01\n",
      "Number of skills: 507\n",
      "            Slope   Intercept  Acceleration    Spikiness\n",
      "count  507.000000  507.000000    507.000000   507.000000\n",
      "mean     0.517729   31.103121     98.311838     0.987188\n",
      "std      0.859419   48.242858    184.989388    51.780073\n",
      "min     -1.798717   -6.930406    -84.422388 -1161.728105\n",
      "25%     -0.074127   -3.948659     -0.154561     2.385519\n",
      "50%      0.248135    8.131024      2.380011     2.800393\n",
      "75%      1.151364   51.833544    107.426002     3.628929\n",
      "max      6.565614  204.646683   1385.063785    18.054322\n",
      "Start: 2019-01-01\n",
      "End: 2020-01-01\n",
      "Number of skills: 510\n",
      "            Slope   Intercept  Acceleration   Spikiness\n",
      "count  510.000000  510.000000    510.000000  510.000000\n",
      "mean     0.036919   31.609617      6.415015    3.284995\n",
      "std      0.473304   49.238540     60.797804    1.688440\n",
      "min     -3.054977   -6.992118   -613.365526    1.996046\n",
      "25%     -0.184938   -4.182258     -2.340785    2.227692\n",
      "50%      0.012117    6.655237      0.158108    2.722379\n",
      "75%      0.282773   52.399623      5.657375    3.654907\n",
      "max      2.585587  204.748537    333.011550   18.096182\n",
      "Start: 2018-01-01\n",
      "End: 2020-01-01\n",
      "Number of skills: 532\n",
      "            Slope   Intercept  Acceleration   Spikiness\n",
      "count  532.000000  532.000000    532.000000  532.000000\n",
      "mean    -0.024725   31.154167     -4.082494    3.778232\n",
      "std      0.253871   49.987557     34.320683    1.906148\n",
      "min     -0.997680   -6.972476   -143.020818    2.127600\n",
      "25%     -0.143927   -4.494996     -6.558976    2.591046\n",
      "50%     -0.016540    6.534137     -0.223322    3.027626\n",
      "75%      0.070600   51.635160      0.651938    4.238805\n",
      "max      2.064180  209.471472    270.443926   14.036401\n",
      "Specialised Skills\n",
      "Start: 2018-01-01\n",
      "End: 2019-01-01\n",
      "Number of skills: 3565\n",
      "             Slope    Intercept  Acceleration    Spikiness\n",
      "count  3565.000000  3565.000000   3565.000000  3565.000000\n",
      "mean      0.162622     5.285370     19.079442     3.706565\n",
      "std       0.554830    23.470382     75.126847     2.626249\n",
      "min      -1.590052    -7.621266   -103.247773  -118.254999\n",
      "25%      -0.123180    -5.615434     -0.827030     2.743427\n",
      "50%       0.039894    -3.903606      0.634123     3.188967\n",
      "75%       0.290770     2.818212      2.388859     4.210457\n",
      "max       8.452851   182.260667   1506.660560    24.849118\n",
      "Start: 2019-01-01\n",
      "End: 2020-01-01\n",
      "Number of skills: 3591\n",
      "             Slope    Intercept  Acceleration    Spikiness\n",
      "count  3591.000000  3591.000000   3591.000000  3591.000000\n",
      "mean      0.011106     5.449752      1.460107     3.672282\n",
      "std       0.394001    23.891141     35.157282     2.535180\n",
      "min      -4.580140    -7.836115   -824.038532   -39.582047\n",
      "25%      -0.147499    -5.661665     -1.287224     2.663389\n",
      "50%       0.000312    -4.011679      0.006130     3.120647\n",
      "75%       0.159262     3.094772      1.344404     4.094198\n",
      "max       3.054597   183.154878    520.151435    75.113318\n",
      "Start: 2018-01-01\n",
      "End: 2020-01-01\n",
      "Number of skills: 4130\n",
      "             Slope    Intercept  Acceleration    Spikiness\n",
      "count  4130.000000  4130.000000   4130.000000  4130.000000\n",
      "mean     -0.006726     4.218348     -0.806823     3.987882\n",
      "std       0.196736    23.329502     18.333659     1.933505\n",
      "min      -1.085097    -7.852274   -175.638105     2.110607\n",
      "25%      -0.062670    -5.988984     -0.532290     2.762589\n",
      "50%      -0.000396    -4.677484     -0.056658     3.181681\n",
      "75%       0.049636     1.046746      0.409839     4.569251\n",
      "max       2.381794   187.226385    359.527225    23.101051\n",
      "Programming Skills\n",
      "Start: 2018-01-01\n",
      "End: 2019-01-01\n",
      "Number of skills: 1368\n",
      "             Slope    Intercept  Acceleration    Spikiness\n",
      "count  1368.000000  1368.000000   1368.000000  1368.000000\n",
      "mean      0.230538     9.611348     25.627881     3.728632\n",
      "std       0.529191    27.196582     80.724790     1.807610\n",
      "min      -2.248428    -7.273689    -52.606299     1.777856\n",
      "25%      -0.088195    -5.089613     -0.723716     2.661183\n",
      "50%       0.098268    -1.743412      0.711915     3.131556\n",
      "75%       0.398653    10.365654      3.829128     4.203298\n",
      "max       2.853091   182.260667    674.557157    17.186138\n",
      "Start: 2019-01-01\n",
      "End: 2020-01-01\n",
      "Number of skills: 1336\n",
      "             Slope    Intercept  Acceleration    Spikiness\n",
      "count  1336.000000  1336.000000   1336.000000  1336.000000\n",
      "mean      0.004210     9.801530      2.269062     3.669545\n",
      "std       0.377091    27.781669     35.986031     2.163794\n",
      "min      -1.687225    -6.962555   -199.253056    -6.798530\n",
      "25%      -0.165169    -5.106819     -1.150972     2.578582\n",
      "50%       0.002049    -2.060144      0.131088     3.052597\n",
      "75%       0.160449    10.350461      1.336344     4.099274\n",
      "max       1.632106   183.154878    350.068884    37.426685\n",
      "Start: 2018-01-01\n",
      "End: 2020-01-01\n",
      "Number of skills: 1445\n",
      "             Slope    Intercept  Acceleration    Spikiness\n",
      "count  1445.000000  1445.000000   1445.000000  1445.000000\n",
      "mean     -0.046795     9.675619     -2.222605     4.171064\n",
      "std       0.199187    28.008232     19.622919     1.996374\n",
      "min      -0.901991    -6.911903   -187.361062     2.145624\n",
      "25%      -0.129246    -5.381977     -0.753352     2.767664\n",
      "50%      -0.022258    -2.034844     -0.058124     3.386662\n",
      "75%       0.032265     9.629798      0.432663     4.985271\n",
      "max       1.188143   187.226385    177.497762    18.304487\n"
     ]
    }
   ],
   "source": [
    "print('Skill Clusters')\n",
    "skill_cluster_trends = [logsum_trend_slope_wrapper(skill_clusters_df.rename(columns={'Skill Cluster': 'Skill'}), \n",
    "                                                  start_and_end_dates[i][0], start_and_end_dates[i][1],\n",
    "                                                  total_log) for i in range(len(start_and_end_dates))]\n",
    "\n",
    "print('Specialised Skills')\n",
    "specialised_skill_trends = [logsum_trend_slope_wrapper(skills_df, \n",
    "                                                  start_and_end_dates[i][0], start_and_end_dates[i][1],\n",
    "                                                  total_log) for i in range(len(start_and_end_dates))]\n",
    "\n",
    "print('Programming Skills')\n",
    "programming_skill_trends = [logsum_trend_slope_wrapper(prog_skills_df, \n",
    "                                                  start_and_end_dates[i][0], start_and_end_dates[i][1],\n",
    "                                                  total_log) for i in range(len(start_and_end_dates))]"
   ]
  },
  {
   "cell_type": "code",
   "execution_count": 17,
   "metadata": {},
   "outputs": [
    {
     "data": {
      "text/plain": [
       "0.39181906077312306"
      ]
     },
     "execution_count": 17,
     "metadata": {},
     "output_type": "execute_result"
    }
   ],
   "source": [
    "specialised_skill_trends[0].Slope.quantile(0.8)"
   ]
  },
  {
   "cell_type": "markdown",
   "metadata": {},
   "source": [
    "Notice how the slopes for 2018 are consistently higher than for 2019 (and therefore also for 2018-2020)."
   ]
  },
  {
   "cell_type": "markdown",
   "metadata": {},
   "source": [
    "Now, having seen the summary statistics, let's see the correlations of these metrics for some of the skill trend dataframes. First, 2018-2020:"
   ]
  },
  {
   "cell_type": "code",
   "execution_count": 18,
   "metadata": {},
   "outputs": [
    {
     "data": {
      "text/html": [
       "<div>\n",
       "<style scoped>\n",
       "    .dataframe tbody tr th:only-of-type {\n",
       "        vertical-align: middle;\n",
       "    }\n",
       "\n",
       "    .dataframe tbody tr th {\n",
       "        vertical-align: top;\n",
       "    }\n",
       "\n",
       "    .dataframe thead th {\n",
       "        text-align: right;\n",
       "    }\n",
       "</style>\n",
       "<table border=\"1\" class=\"dataframe\">\n",
       "  <thead>\n",
       "    <tr style=\"text-align: right;\">\n",
       "      <th></th>\n",
       "      <th>Slope</th>\n",
       "      <th>Intercept</th>\n",
       "      <th>Acceleration</th>\n",
       "      <th>Spikiness</th>\n",
       "      <th>Job Postings Raw</th>\n",
       "    </tr>\n",
       "  </thead>\n",
       "  <tbody>\n",
       "    <tr>\n",
       "      <td>Slope</td>\n",
       "      <td>1.000000</td>\n",
       "      <td>-0.159437</td>\n",
       "      <td>0.721127</td>\n",
       "      <td>0.019532</td>\n",
       "      <td>-0.064566</td>\n",
       "    </tr>\n",
       "    <tr>\n",
       "      <td>Intercept</td>\n",
       "      <td>-0.159437</td>\n",
       "      <td>1.000000</td>\n",
       "      <td>-0.217107</td>\n",
       "      <td>-0.166621</td>\n",
       "      <td>0.821042</td>\n",
       "    </tr>\n",
       "    <tr>\n",
       "      <td>Acceleration</td>\n",
       "      <td>0.721127</td>\n",
       "      <td>-0.217107</td>\n",
       "      <td>1.000000</td>\n",
       "      <td>0.034315</td>\n",
       "      <td>-0.159388</td>\n",
       "    </tr>\n",
       "    <tr>\n",
       "      <td>Spikiness</td>\n",
       "      <td>0.019532</td>\n",
       "      <td>-0.166621</td>\n",
       "      <td>0.034315</td>\n",
       "      <td>1.000000</td>\n",
       "      <td>-0.138762</td>\n",
       "    </tr>\n",
       "    <tr>\n",
       "      <td>Job Postings Raw</td>\n",
       "      <td>-0.064566</td>\n",
       "      <td>0.821042</td>\n",
       "      <td>-0.159388</td>\n",
       "      <td>-0.138762</td>\n",
       "      <td>1.000000</td>\n",
       "    </tr>\n",
       "  </tbody>\n",
       "</table>\n",
       "</div>"
      ],
      "text/plain": [
       "                     Slope  Intercept  Acceleration  Spikiness  \\\n",
       "Slope             1.000000  -0.159437      0.721127   0.019532   \n",
       "Intercept        -0.159437   1.000000     -0.217107  -0.166621   \n",
       "Acceleration      0.721127  -0.217107      1.000000   0.034315   \n",
       "Spikiness         0.019532  -0.166621      0.034315   1.000000   \n",
       "Job Postings Raw -0.064566   0.821042     -0.159388  -0.138762   \n",
       "\n",
       "                  Job Postings Raw  \n",
       "Slope                    -0.064566  \n",
       "Intercept                 0.821042  \n",
       "Acceleration             -0.159388  \n",
       "Spikiness                -0.138762  \n",
       "Job Postings Raw          1.000000  "
      ]
     },
     "execution_count": 18,
     "metadata": {},
     "output_type": "execute_result"
    }
   ],
   "source": [
    "specialised_skill_trends[2].corr(method='pearson')"
   ]
  },
  {
   "cell_type": "code",
   "execution_count": 19,
   "metadata": {},
   "outputs": [
    {
     "data": {
      "text/html": [
       "<div>\n",
       "<style scoped>\n",
       "    .dataframe tbody tr th:only-of-type {\n",
       "        vertical-align: middle;\n",
       "    }\n",
       "\n",
       "    .dataframe tbody tr th {\n",
       "        vertical-align: top;\n",
       "    }\n",
       "\n",
       "    .dataframe thead th {\n",
       "        text-align: right;\n",
       "    }\n",
       "</style>\n",
       "<table border=\"1\" class=\"dataframe\">\n",
       "  <thead>\n",
       "    <tr style=\"text-align: right;\">\n",
       "      <th></th>\n",
       "      <th>Slope</th>\n",
       "      <th>Intercept</th>\n",
       "      <th>Acceleration</th>\n",
       "      <th>Spikiness</th>\n",
       "      <th>Job Postings Raw</th>\n",
       "    </tr>\n",
       "  </thead>\n",
       "  <tbody>\n",
       "    <tr>\n",
       "      <td>Slope</td>\n",
       "      <td>1.000000</td>\n",
       "      <td>-0.325342</td>\n",
       "      <td>0.033289</td>\n",
       "      <td>-0.018336</td>\n",
       "      <td>-0.114721</td>\n",
       "    </tr>\n",
       "    <tr>\n",
       "      <td>Intercept</td>\n",
       "      <td>-0.325342</td>\n",
       "      <td>1.000000</td>\n",
       "      <td>0.151096</td>\n",
       "      <td>0.339438</td>\n",
       "      <td>0.916672</td>\n",
       "    </tr>\n",
       "    <tr>\n",
       "      <td>Acceleration</td>\n",
       "      <td>0.033289</td>\n",
       "      <td>0.151096</td>\n",
       "      <td>1.000000</td>\n",
       "      <td>0.061542</td>\n",
       "      <td>-0.028310</td>\n",
       "    </tr>\n",
       "    <tr>\n",
       "      <td>Spikiness</td>\n",
       "      <td>-0.018336</td>\n",
       "      <td>0.339438</td>\n",
       "      <td>0.061542</td>\n",
       "      <td>1.000000</td>\n",
       "      <td>0.412025</td>\n",
       "    </tr>\n",
       "    <tr>\n",
       "      <td>Job Postings Raw</td>\n",
       "      <td>-0.114721</td>\n",
       "      <td>0.916672</td>\n",
       "      <td>-0.028310</td>\n",
       "      <td>0.412025</td>\n",
       "      <td>1.000000</td>\n",
       "    </tr>\n",
       "  </tbody>\n",
       "</table>\n",
       "</div>"
      ],
      "text/plain": [
       "                     Slope  Intercept  Acceleration  Spikiness  \\\n",
       "Slope             1.000000  -0.325342      0.033289  -0.018336   \n",
       "Intercept        -0.325342   1.000000      0.151096   0.339438   \n",
       "Acceleration      0.033289   0.151096      1.000000   0.061542   \n",
       "Spikiness        -0.018336   0.339438      0.061542   1.000000   \n",
       "Job Postings Raw -0.114721   0.916672     -0.028310   0.412025   \n",
       "\n",
       "                  Job Postings Raw  \n",
       "Slope                    -0.114721  \n",
       "Intercept                 0.916672  \n",
       "Acceleration             -0.028310  \n",
       "Spikiness                 0.412025  \n",
       "Job Postings Raw          1.000000  "
      ]
     },
     "execution_count": 19,
     "metadata": {},
     "output_type": "execute_result"
    }
   ],
   "source": [
    "specialised_skill_trends[2].corr(method='spearman')"
   ]
  },
  {
   "cell_type": "markdown",
   "metadata": {},
   "source": [
    "Quite interestingly, Slope values are highly correlated with Acceleration values when we use Pearson, but with Spearman, they are entirely uncorrelated. This means that even though intuitively, faster growth and greater acceleration are correlated, when it comes to ranking the skills by these two values, the rankings have nothing to do with each other. Since what we primarily care about is growth (and we'd only want to give accelerating growth a higher score than constant or decelerating growth), I think this shows that thresholding on the Slope is better, and the Acceleration values could then be used to rank those. On the other hand, if we had reliable ground truth for emerging skills, this lack of correlation would mean that these would work together pretty well in a predictive model that would compute the optimal weights for each of the metrics.\n",
    "\n",
    "As we expected, Acceleration and Spikiness are not correlated in any way."
   ]
  },
  {
   "cell_type": "code",
   "execution_count": 20,
   "metadata": {},
   "outputs": [],
   "source": [
    "emerging_spec_skills = [threshold_logsum_trends_simple(specialised_skill_trends[i], total=total_values[i]) \n",
    "                        for i in range(len(specialised_skill_trends))]\n",
    "emerging_prog_skills = [threshold_logsum_trends_simple(programming_skill_trends[i], total=total_values[i]) \n",
    "                        for i in range(len(programming_skill_trends))]"
   ]
  },
  {
   "cell_type": "code",
   "execution_count": 21,
   "metadata": {},
   "outputs": [],
   "source": [
    "def compare_emerging_skill_sets(emerging_skills, dates):\n",
    "    for i in range(len(emerging_skills)):\n",
    "        for j in range(i+1,len(emerging_skills)):\n",
    "            print('\\nComparing ' + ' to '.join([str(dates[i][k]) for k in range(2)]) + ' with ' + \n",
    "                                            ' to '.join([str(dates[j][k]) for k in range(2)]))\n",
    "            skills_shared = set(emerging_skills[i].Skill.values).intersection(set(emerging_skills[j].Skill.values))\n",
    "            skills_exclusive_i = \\\n",
    "                        set(emerging_skills[i].Skill.values).difference(set(emerging_skills[j].Skill.values))\n",
    "            skills_exclusive_j = \\\n",
    "                        set(emerging_skills[j].Skill.values).difference(set(emerging_skills[i].Skill.values))\n",
    "            print('\\n# of skills shared and exclusive to each date (in order)')\n",
    "            print(len(skills_shared), len(skills_exclusive_i), len(skills_exclusive_j))\n",
    "            print('\\nThe skills themselves:')\n",
    "            print('\\nShared:' + '\\n')\n",
    "            print(skills_shared)\n",
    "            print('\\nExclusive to '+ ' to '.join([str(dates[i][k]) for k in range(2)]) + '\\n')\n",
    "            print(skills_exclusive_i)\n",
    "            print('\\nExclusive to '+ ' to '.join([str(dates[j][k]) for k in range(2)]) + '\\n')\n",
    "            print(skills_exclusive_j)"
   ]
  },
  {
   "cell_type": "markdown",
   "metadata": {},
   "source": [
    "Let's compare the emerging skill sets for the specialised skills, comparing all three periods (2018, 2019, and combined)."
   ]
  },
  {
   "cell_type": "code",
   "execution_count": 22,
   "metadata": {
    "scrolled": false
   },
   "outputs": [
    {
     "name": "stdout",
     "output_type": "stream",
     "text": [
      "\n",
      "Comparing 2018-01-01 to 2019-01-01 with 2019-01-01 to 2020-01-01\n",
      "\n",
      "# of skills shared and exclusive to each date (in order)\n",
      "26 126 132\n",
      "\n",
      "The skills themselves:\n",
      "\n",
      "Shared:\n",
      "\n",
      "{'Customer Billing', 'Vendor Relations', 'Cabling', 'Hardware Support', 'TIBCO', 'SAP HANA', 'Model-View-Controller (MVC)', 'SAP Netweaver', 'Microservice', 'Online Analytical Processing (OLAP)', 'AWS CloudFormation', 'OpenShift', 'Risk and Mitigation Analysis', 'Customer Checkout', 'Database Upgrade', 'Business-to-Business', 'Oauth', 'Secure Shell', 'Contract Review', 'Data Engineering', 'SAP CRM', 'Business Intelligence Reporting', 'SAP BusinessObjects', 'Bitbucket', 'Six Sigma', 'Negotiation Skills'}\n",
      "\n",
      "Exclusive to 2018-01-01 to 2019-01-01\n",
      "\n",
      "{'TypeScript', 'Object-Oriented Programming', 'Strategic Partnerships', 'Adobe Creative Suite', 'Mulesoft', 'Cloud Foundry', 'Product Design', 'Software Quality Assurance', 'Activex Data Object (ADO)', 'Teaching', 'System Maintenance', 'Spring Boot', 'Data Validation', 'Front-end Development', 'Network File System', 'Onboarding', 'Software Issue Resolution', 'Master Data Management (MDM)', 'TensorFlow', 'ASP.NET MVC', 'VMware ESXi', 'Nagios', 'Job Control Language (JCL)', 'Apigee', 'Good Clinical Practices (GCP)', 'Legal Compliance', 'CentOS', 'Adobe Indesign', 'Data Encryption', 'Database Optimization', 'Internet Technologies', 'Linux Scripting', 'Team Management', 'Go-to-market Strategy', 'Scenario testing', 'Spring Web Services', 'Data Mining', 'Talent Acquisition', 'User Acceptance Testing (UAT)', 'Business Requirements Documentation', 'Product Knowledge', 'Technology Sales', 'Performance Management', 'Cost Estimation', 'Continuous Deployment', 'Software Design Engineer in Test (SDET)', 'Predictive Models', 'Intellectual Property', 'General Ledger', 'Computer Installation and Setup', 'Robotics', 'Virtual Storage Access Method (VSAM)', 'Visual Basic', 'Clustering', 'Pipeline (Computing)', 'REXX', 'Case Management', 'PCI DSS', 'COBOL', 'Account Management', 'Empower', 'Microsoft Power BI', 'Hardware and Software Problem Diagnosis', 'Data Dictionary System', 'Behavior-Driven Development (BDD)', 'Nessus', 'Web Programming', 'Datastage', 'Business Operations', 'Jetty (Web Server)', 'Kanban', 'Data Mapping', 'Enterprise Software', 'Financial Analysis', 'SQL Server Reporting Services (SSRS)', 'Vormetric', 'Key Performance Indicators (KPIs)', 'UNIX Platforms', 'Computer Vision', 'Open Web Application Security Project (OWASP)', 'Citrix XenApp', 'Java Message Service (JMS)', 'SonarQube', 'Health Checks', 'MATLAB', 'Blockchain', 'Business Strategy', 'Sales Proposal', 'Web Services Architecture', 'ElasticSearch', 'Object Oriented Development Software', 'R', 'Data Conversion', 'Break/Fix', 'Business Consulting', 'Confluence', 'Conflict Management', 'Reengineering', 'PCI (Payment Card Industry)', 'Sketching', 'TOGAF', 'System Documentation', 'Sales Planning', 'Data Integration', 'Customer Accounts', 'Spring Framework', 'OS X', 'Outsourcing', 'CommVault', 'Swift (Programming Language)', 'Effective Communications', 'Engineering Management', 'Data Quality', 'Cisco Unified Computing System (UCS)', 'Performance & Scalability Design', 'Psychology', 'API Management', 'Computer Hardware/Software Knowledge', 'Cisco Routing', 'Data Governance', 'Data Collection', 'Spring MVC', 'Cross-browser', 'Architectural Design', 'Security Operations', 'Human Computer Interaction'}\n",
      "\n",
      "Exclusive to 2019-01-01 to 2020-01-01\n",
      "\n",
      "{'Embedded Systems', 'Product Marketing', 'Capacity Management', 'Finance', 'IBM Cognos', 'Nginx', 'Functional Programming', 'Feasibility Studies', 'ISO 27001', 'Needs Assessment', 'Program Management', 'Amazon Redshift', 'Construction Management', 'Ubuntu', 'Jupyter Notebook', 'FedRAMP', 'Enterprise Sales', 'Apache Groovy', 'NUnit', 'Packaging', 'Proposal Writing', 'Threat Intelligence and Analysis', 'Network Operations & Service Management', 'Workflow Management', 'Test Data Management', 'Requirements traceability', 'High-level design', 'Complex Sales', 'Problem Analysis', 'AWS Simple Storage Service (S3)', 'Database Programming', 'Less.js', 'Salesforce Lightning', 'Qlik', 'SolarWinds', 'Policy Implementation', 'Threat Modeling', 'Component Design', 'Network Hardware', 'Order to Cash Processing', 'Apache Jmeter', 'Solaris', 'NIST SP 800-53', 'VMware vCenter', 'NIST Security Standards', 'Banking Industry Knowledge', 'Cost Control', 'Graphic Design', 'Internet Protocols', 'Public Key Infrastructure (PKI)', 'Oracle Cloud', 'Economics', 'Relational Database Design', 'Strategic Planning', 'Amazon DynamoDB', 'Fintech', 'Service Improvement', 'Hyper-V', 'Salesforce Visualforce', 'Vue.js', 'Single Sign On (SSO)', 'AppExchange', 'Azure Security', 'RabbitMQ', 'Key Performance Metrics', 'Financial Accounting', 'Dell Boomi', 'Business Management', 'Accounting', 'Atlassian Bamboo', 'Apex Code', 'Sales Strategy', 'Technical Analysis', 'BladeLogic', 'Graphics Processing Units (GPU)', 'Hypervisors', 'Fiber Optics', 'Calculator', 'Asset Management Industry Knowledge', 'Black-box testing', 'Expense Reports', 'Information Systems Management', 'System Security Plans', 'ERwin', 'Mechanical Engineering', 'Metadata', 'SAP Basis', 'Salesforce Platform Skills', 'Oracle E-Business Suite Financials', 'Mergers and Acquisitions', 'Oracle Database Administration (DBA)', 'Strategic Development', 'AWS Elastic Compute Cloud (EC2)', 'Mobile Application Design', 'Threat Analysis', 'Sales Administration', 'Spring Security', 'Penetration Testing', 'Kibana', 'Market Trend', 'Econometrics', 'DevSecOps', 'AWS Redshift', 'TeamCity', 'TestNG', 'Mockito', 'Advanced Business Application Programming (ABAP)', 'Heroku', 'Full Life Cycle', 'Frontend Technology', 'High Tech Industry Knowledge', 'Readability', 'Resource Management', 'SAP S/4HANA', 'NetSuite', 'Agile coaching', 'Order Management', 'Adobe Illustrator', 'Storage Systems', 'Supply Chain Knowledge', 'Caching', 'Enterprise Application Integration', 'Network Testing', 'Prepare Presentations', 'Golang (Go Programming Language)', 'It Support', 'Teradata', 'Software Customizations', 'Health Insurance Portability and Accountability Act (HIPAA)', 'Anomaly Detection', 'IBM Watson', 'Record Keeping'}\n",
      "\n",
      "Comparing 2018-01-01 to 2019-01-01 with 2018-01-01 to 2020-01-01\n",
      "\n",
      "# of skills shared and exclusive to each date (in order)\n",
      "42 110 99\n",
      "\n",
      "The skills themselves:\n",
      "\n",
      "Shared:\n",
      "\n",
      "{'TypeScript', 'Object-Oriented Programming', 'Scenario testing', 'Spring Web Services', 'Empower', 'Mulesoft', 'Object Oriented Development Software', 'R', 'Hardware Support', 'TIBCO', 'Activex Data Object (ADO)', 'SAP HANA', 'Business Consulting', 'Microservice', 'AWS CloudFormation', 'Kanban', 'OpenShift', 'Data Mapping', 'Onboarding', 'Master Data Management (MDM)', 'Continuous Deployment', 'TensorFlow', 'Software Design Engineer in Test (SDET)', 'Predictive Models', 'Spring Framework', 'Business-to-Business', 'Robotics', 'Oauth', 'Apigee', 'Visual Basic', 'Clustering', 'Pipeline (Computing)', 'Good Clinical Practices (GCP)', 'API Management', 'Legal Compliance', 'SonarQube', 'Health Checks', 'Data Engineering', 'SAP CRM', 'Blockchain', 'Bitbucket', 'Business Strategy'}\n",
      "\n",
      "Exclusive to 2018-01-01 to 2019-01-01\n",
      "\n",
      "{'Customer Billing', 'Strategic Partnerships', 'Adobe Creative Suite', 'Cloud Foundry', 'Product Design', 'Software Quality Assurance', 'Teaching', 'System Maintenance', 'Model-View-Controller (MVC)', 'Spring Boot', 'Data Validation', 'Online Analytical Processing (OLAP)', 'Front-end Development', 'Network File System', 'Software Issue Resolution', 'Risk and Mitigation Analysis', 'ASP.NET MVC', 'VMware ESXi', 'Database Upgrade', 'Nagios', 'Job Control Language (JCL)', 'Secure Shell', 'CentOS', 'Adobe Indesign', 'Data Encryption', 'Database Optimization', 'Business Intelligence Reporting', 'Internet Technologies', 'Linux Scripting', 'SAP BusinessObjects', 'Negotiation Skills', 'Team Management', 'Go-to-market Strategy', 'Data Mining', 'Talent Acquisition', 'User Acceptance Testing (UAT)', 'Business Requirements Documentation', 'Product Knowledge', 'Technology Sales', 'Performance Management', 'Cost Estimation', 'Customer Checkout', 'Intellectual Property', 'General Ledger', 'Computer Installation and Setup', 'Virtual Storage Access Method (VSAM)', 'REXX', 'Case Management', 'Six Sigma', 'PCI DSS', 'COBOL', 'Account Management', 'Microsoft Power BI', 'Vendor Relations', 'Hardware and Software Problem Diagnosis', 'Data Dictionary System', 'Behavior-Driven Development (BDD)', 'Nessus', 'Web Programming', 'Datastage', 'Business Operations', 'Jetty (Web Server)', 'Enterprise Software', 'Financial Analysis', 'SQL Server Reporting Services (SSRS)', 'Vormetric', 'Key Performance Indicators (KPIs)', 'UNIX Platforms', 'Computer Vision', 'Contract Review', 'Open Web Application Security Project (OWASP)', 'Citrix XenApp', 'Java Message Service (JMS)', 'MATLAB', 'Sales Proposal', 'Web Services Architecture', 'ElasticSearch', 'Cabling', 'Data Conversion', 'Break/Fix', 'Confluence', 'SAP Netweaver', 'Conflict Management', 'Reengineering', 'PCI (Payment Card Industry)', 'Sketching', 'TOGAF', 'System Documentation', 'Sales Planning', 'Data Integration', 'Customer Accounts', 'OS X', 'Outsourcing', 'CommVault', 'Swift (Programming Language)', 'Effective Communications', 'Engineering Management', 'Data Quality', 'Cisco Unified Computing System (UCS)', 'Performance & Scalability Design', 'Psychology', 'Computer Hardware/Software Knowledge', 'Cisco Routing', 'Data Governance', 'Data Collection', 'Spring MVC', 'Cross-browser', 'Architectural Design', 'Security Operations', 'Human Computer Interaction'}\n",
      "\n",
      "Exclusive to 2018-01-01 to 2020-01-01\n",
      "\n",
      "{'Product Marketing', 'VMware Infrastructure', 'Functional Programming', 'Amazon Redshift', 'Integrated Development Environment (IDE)', 'Prospective Clients', 'Web Content Management', 'Ubuntu', 'Inversion of Control (IoC)', 'FedRAMP', 'Enterprise Sales', 'Calculation', 'NumPy', 'Business Process Modelling', 'Threat Intelligence and Analysis', 'Integration Architectures', 'Requirements traceability', 'SAP Implementation', 'Xcode', 'Account Closing', 'Regression Algorithms', 'Amazon Relational Database Service (RDS)', 'Meraki', 'AWS Simple Storage Service (S3)', 'SAP Ariba', 'Articulating Value Propositions', 'Salesforce Lightning', 'Component Design', 'Order to Cash Processing', 'Apache Jmeter', 'Internet of Things (IoT)', 'Pair programming', 'Cluster Analysis', 'NIST Security Standards', 'Data Lakes / Reservoirs', 'Invoicing', 'Salesforce Object Query Language (SOQL)', 'Deep Learning', 'Oracle Cloud', 'Economics', 'Relational Database Design', 'Adobe Marketing Cloud', 'Udeploy', 'User Research', 'Keras', 'Amazon DynamoDB', 'Service Improvement', 'Salesforce Visualforce', 'Vue.js', 'CyberArk', 'Information Architecture', 'Single Sign On (SSO)', 'Content Management', 'Key Performance Metrics', 'Staff Development', 'Osgi', 'Apache Impala', 'Atlassian Bamboo', 'Apex Code', 'Public Speaking', 'Sales Strategy', 'Network Architecture and Design', 'Android Software Development Kit (SDK)', 'Expense Reports', 'Information Systems Management', 'Android', 'Salesforce Platform Skills', 'Pandas', 'Oracle Database Administration (DBA)', 'AWS Elastic Compute Cloud (EC2)', 'Cross Sell', 'Spring Security', 'Spring Batch Framework', 'Neural Networks', 'Kibana', 'AppDynamics', 'Content Development', 'Market Trend', 'DevSecOps', 'Apache Spark', 'Reliability Engineering Studies', 'Technical Presentations', 'VMware Horizon View', 'AWS Redshift', 'TestNG', 'Salesforce Development', 'Mockito', 'Readability', 'Management Consulting', 'SAP S/4HANA', 'Scikit-learn', 'NIST Cybersecurity Framework', 'Storage Architectures', 'Apache ActiveMQ', 'Natural Language Processing', 'MuleSoft Anypoint', 'Golang (Go Programming Language)', 'Flow Diagrams', 'iOS Application Development'}\n",
      "\n",
      "Comparing 2019-01-01 to 2020-01-01 with 2018-01-01 to 2020-01-01\n",
      "\n",
      "# of skills shared and exclusive to each date (in order)\n",
      "52 106 89\n",
      "\n",
      "The skills themselves:\n",
      "\n",
      "Shared:\n",
      "\n",
      "{'Product Marketing', 'Component Design', 'Atlassian Bamboo', 'Apex Code', 'Functional Programming', 'Sales Strategy', 'Hardware Support', 'TIBCO', 'Order to Cash Processing', 'Apache Jmeter', 'AWS Redshift', 'SAP HANA', 'TestNG', 'Mockito', 'Amazon Redshift', 'Microservice', 'AWS CloudFormation', 'Expense Reports', 'Information Systems Management', 'OpenShift', 'NIST Security Standards', 'Readability', 'Ubuntu', 'SAP S/4HANA', 'Salesforce Platform Skills', 'FedRAMP', 'Enterprise Sales', 'Oracle Database Administration (DBA)', 'Business-to-Business', 'Oracle Cloud', 'Economics', 'Threat Intelligence and Analysis', 'Relational Database Design', 'AWS Elastic Compute Cloud (EC2)', 'Oauth', 'Amazon DynamoDB', 'Spring Security', 'Service Improvement', 'Requirements traceability', 'Golang (Go Programming Language)', 'Salesforce Visualforce', 'Kibana', 'Vue.js', 'Single Sign On (SSO)', 'Data Engineering', 'SAP CRM', 'AWS Simple Storage Service (S3)', 'Key Performance Metrics', 'Salesforce Lightning', 'Bitbucket', 'Market Trend', 'DevSecOps'}\n",
      "\n",
      "Exclusive to 2019-01-01 to 2020-01-01\n",
      "\n",
      "{'Customer Billing', 'Capacity Management', 'Embedded Systems', 'Finance', 'IBM Cognos', 'Nginx', 'Feasibility Studies', 'ISO 27001', 'Needs Assessment', 'Program Management', 'Model-View-Controller (MVC)', 'Online Analytical Processing (OLAP)', 'Construction Management', 'Risk and Mitigation Analysis', 'Jupyter Notebook', 'Database Upgrade', 'Apache Groovy', 'NUnit', 'Packaging', 'Proposal Writing', 'Network Operations & Service Management', 'Secure Shell', 'Workflow Management', 'Test Data Management', 'High-level design', 'Complex Sales', 'Problem Analysis', 'Business Intelligence Reporting', 'Database Programming', 'Less.js', 'SAP BusinessObjects', 'Negotiation Skills', 'Qlik', 'SolarWinds', 'Policy Implementation', 'Threat Modeling', 'Network Hardware', 'Solaris', 'NIST SP 800-53', 'VMware vCenter', 'Banking Industry Knowledge', 'Cost Control', 'Graphic Design', 'Customer Checkout', 'Internet Protocols', 'Public Key Infrastructure (PKI)', 'Strategic Planning', 'Fintech', 'Hyper-V', 'AppExchange', 'Azure Security', 'RabbitMQ', 'Six Sigma', 'Financial Accounting', 'Dell Boomi', 'Business Management', 'Accounting', 'Technical Analysis', 'Vendor Relations', 'BladeLogic', 'Graphics Processing Units (GPU)', 'Hypervisors', 'Fiber Optics', 'Calculator', 'Asset Management Industry Knowledge', 'Black-box testing', 'System Security Plans', 'ERwin', 'Mechanical Engineering', 'Metadata', 'SAP Basis', 'Oracle E-Business Suite Financials', 'Mergers and Acquisitions', 'Strategic Development', 'Mobile Application Design', 'Threat Analysis', 'Sales Administration', 'Penetration Testing', 'Contract Review', 'Econometrics', 'Cabling', 'TeamCity', 'Advanced Business Application Programming (ABAP)', 'Heroku', 'SAP Netweaver', 'Full Life Cycle', 'Frontend Technology', 'High Tech Industry Knowledge', 'Resource Management', 'NetSuite', 'Agile coaching', 'Order Management', 'Adobe Illustrator', 'Storage Systems', 'Supply Chain Knowledge', 'Caching', 'Enterprise Application Integration', 'Network Testing', 'Prepare Presentations', 'It Support', 'Teradata', 'Software Customizations', 'Health Insurance Portability and Accountability Act (HIPAA)', 'Anomaly Detection', 'IBM Watson', 'Record Keeping'}\n",
      "\n",
      "Exclusive to 2018-01-01 to 2020-01-01\n",
      "\n",
      "{'TypeScript', 'Object-Oriented Programming', 'Mulesoft', 'VMware Infrastructure', 'Activex Data Object (ADO)', 'Integrated Development Environment (IDE)', 'Prospective Clients', 'Onboarding', 'Web Content Management', 'Master Data Management (MDM)', 'TensorFlow', 'Inversion of Control (IoC)', 'Calculation', 'NumPy', 'Business Process Modelling', 'Integration Architectures', 'Apigee', 'SAP Implementation', 'Xcode', 'Account Closing', 'Good Clinical Practices (GCP)', 'Regression Algorithms', 'Legal Compliance', 'Amazon Relational Database Service (RDS)', 'Meraki', 'SAP Ariba', 'Articulating Value Propositions', 'Scenario testing', 'Spring Web Services', 'Internet of Things (IoT)', 'Pair programming', 'Cluster Analysis', 'Data Lakes / Reservoirs', 'Continuous Deployment', 'Software Design Engineer in Test (SDET)', 'Invoicing', 'Predictive Models', 'Salesforce Object Query Language (SOQL)', 'Robotics', 'Deep Learning', 'Udeploy', 'Adobe Marketing Cloud', 'User Research', 'Keras', 'Visual Basic', 'Clustering', 'Pipeline (Computing)', 'CyberArk', 'Information Architecture', 'Content Management', 'Staff Development', 'Osgi', 'Apache Impala', 'Empower', 'Public Speaking', 'Network Architecture and Design', 'Android Software Development Kit (SDK)', 'Kanban', 'Data Mapping', 'Android', 'Pandas', 'Cross Sell', 'Spring Batch Framework', 'Neural Networks', 'SonarQube', 'Health Checks', 'AppDynamics', 'Content Development', 'Blockchain', 'Business Strategy', 'Apache Spark', 'Reliability Engineering Studies', 'Object Oriented Development Software', 'Technical Presentations', 'R', 'VMware Horizon View', 'Business Consulting', 'Salesforce Development', 'Management Consulting', 'Scikit-learn', 'NIST Cybersecurity Framework', 'Spring Framework', 'Storage Architectures', 'Apache ActiveMQ', 'Natural Language Processing', 'MuleSoft Anypoint', 'API Management', 'Flow Diagrams', 'iOS Application Development'}\n"
     ]
    }
   ],
   "source": [
    "compare_emerging_skill_sets(emerging_spec_skills, start_and_end_dates)"
   ]
  },
  {
   "cell_type": "markdown",
   "metadata": {},
   "source": [
    "Let's compare the emerging skill sets for the programming skills, comparing all three periods (2018, 2019, and combined)."
   ]
  },
  {
   "cell_type": "code",
   "execution_count": 23,
   "metadata": {
    "scrolled": true
   },
   "outputs": [
    {
     "name": "stdout",
     "output_type": "stream",
     "text": [
      "\n",
      "Comparing 2018-01-01 to 2019-01-01 with 2019-01-01 to 2020-01-01\n",
      "\n",
      "# of skills shared and exclusive to each date (in order)\n",
      "10 66 46\n",
      "\n",
      "The skills themselves:\n",
      "\n",
      "Shared:\n",
      "\n",
      "{'Hyper-V', 'AWS CloudFormation', 'Jenkins', 'OpenShift', 'Apex Code', 'AWS Elastic Compute Cloud (EC2)', 'SAP HANA', 'SAP BusinessObjects', 'Salesforce Lightning', 'Golang (Go Programming Language)'}\n",
      "\n",
      "Exclusive to 2018-01-01 to 2019-01-01\n",
      "\n",
      "{'Object-Oriented Programming', 'Spring Web Services', 'Apache Spark', 'Adobe Creative Suite', 'Apache Impala', 'Object Oriented Development Software', 'Nginx', 'Software Quality Assurance', 'VMware Horizon View', 'Activex Data Object (ADO)', 'Delphi', 'Software Analysis', 'User Acceptance Testing (UAT)', 'TestNG', 'Advanced Business Application Programming (ABAP)', 'Metasploit', 'Datastage', 'Confluence', 'Model-View-Controller (MVC)', 'Spring Boot', 'COBOL', 'Jetty (Web Server)', 'VMware vSphere', 'Adobe Acrobat', 'ASP.NET MVC', 'Veritas NetBackup', 'VBScript', 'VMware ESXi', 'SQL Server Reporting Services (SSRS)', 'Failover', 'Spring Framework', 'NumPy', 'Vormetric', 'Macros', 'Microsoft Dynamics AX', 'Virtual Storage Access Method (VSAM)', 'CommVault', 'Hyperion', 'Nagios', 'Citrix XenDesktop', 'Multithreaded Programming', 'Job Control Language (JCL)', 'Keras', 'SAP Security', 'Avaya', 'Cisco Unified Computing System (UCS)', 'Apigee', 'Microsoft Exchange', 'Visual Basic', 'Citrix XenApp', 'Java Message Service (JMS)', 'CyberArk', 'CentOS', 'AppDynamics', 'Adobe Indesign', 'MapReduce', 'Load Runner', 'CLIST (Programming Language)', 'MATLAB', 'Microsoft CRM', 'Cross-browser', 'Linux Scripting', 'Electronic Data Interchange', 'Microstrategy', 'RabbitMQ', 'PCI DSS'}\n",
      "\n",
      "Exclusive to 2019-01-01 to 2020-01-01\n",
      "\n",
      "{'IBM Cognos', 'Atlassian Bamboo', 'AWS Redshift', 'TeamCity', 'Apache Jmeter', 'Ansible RHEL (Red Hat Enterprise)', 'Hypervisors', 'Heroku', 'SAP Netweaver', 'Solaris', 'Microsoft Office 365', 'Cucumber Software', 'Structured Query Reporter (SQR)', 'SPUFI', 'IBM Rational', 'Oracle E-Business Suite', 'Ubuntu', 'BigFix', 'Cascading Style Sheets (CSS)', 'IDMS', 'SAP Basis', 'Fiddler', 'FedRAMP', 'Apache Groovy', 'Adobe Illustrator', 'Apache Flume', 'Mobile Application Design', 'Amazon DynamoDB', 'MVC Framework', 'Okta', 'Teradata', 'Salesforce Visualforce', 'Splunk SIEM', 'Microsoft Outlook', 'Azure Security', 'AWS Simple Storage Service (S3)', 'Logstash', 'SAP S/4 Hana, Fiori & UI5 Security', 'Salesforce Einstein', 'Amazon Virtual Private Cloud (VPC)', 'MariaDB', 'Software Maintenance', 'IBM Watson', 'Microsoft Access', 'Qlik', 'Microsoft System Center'}\n",
      "\n",
      "Comparing 2018-01-01 to 2019-01-01 with 2018-01-01 to 2020-01-01\n",
      "\n",
      "# of skills shared and exclusive to each date (in order)\n",
      "21 55 19\n",
      "\n",
      "The skills themselves:\n",
      "\n",
      "Shared:\n",
      "\n",
      "{'Object-Oriented Programming', 'Spring Web Services', 'Apache Spark', 'Apache Impala', 'Object Oriented Development Software', 'Apex Code', 'VMware Horizon View', 'SAP HANA', 'AWS CloudFormation', 'OpenShift', 'Spring Framework', 'NumPy', 'Keras', 'Visual Basic', 'Apigee', 'Golang (Go Programming Language)', 'CyberArk', 'CentOS', 'AppDynamics', 'RabbitMQ', 'Salesforce Lightning'}\n",
      "\n",
      "Exclusive to 2018-01-01 to 2019-01-01\n",
      "\n",
      "{'Adobe Creative Suite', 'Software Quality Assurance', 'Nginx', 'Activex Data Object (ADO)', 'Delphi', 'Software Analysis', 'User Acceptance Testing (UAT)', 'TestNG', 'Model-View-Controller (MVC)', 'Advanced Business Application Programming (ABAP)', 'Metasploit', 'Confluence', 'Spring Boot', 'Datastage', 'COBOL', 'Jetty (Web Server)', 'VMware vSphere', 'Adobe Acrobat', 'ASP.NET MVC', 'Veritas NetBackup', 'VBScript', 'VMware ESXi', 'SQL Server Reporting Services (SSRS)', 'Failover', 'Vormetric', 'Macros', 'Microsoft Dynamics AX', 'Virtual Storage Access Method (VSAM)', 'CommVault', 'Hyperion', 'AWS Elastic Compute Cloud (EC2)', 'Nagios', 'Citrix XenDesktop', 'Multithreaded Programming', 'Job Control Language (JCL)', 'SAP Security', 'Avaya', 'Cisco Unified Computing System (UCS)', 'Microsoft Exchange', 'Citrix XenApp', 'Hyper-V', 'Java Message Service (JMS)', 'Jenkins', 'MapReduce', 'Adobe Indesign', 'Load Runner', 'CLIST (Programming Language)', 'MATLAB', 'Microsoft CRM', 'Cross-browser', 'Linux Scripting', 'Electronic Data Interchange', 'Microstrategy', 'SAP BusinessObjects', 'PCI DSS'}\n",
      "\n",
      "Exclusive to 2018-01-01 to 2020-01-01\n",
      "\n",
      "{'Salesforce Marketing Cloud', 'Spring Data', 'IBM Cloud', 'Android', 'BigFix', 'Web Analytics', 'Oracle Cloud', 'Adobe Marketing Cloud', 'IaaS Security', 'MuleSoft Anypoint', 'Okta', 'Salesforce Security', 'Salesforce Visualforce', 'Amazon Relational Database Service (RDS)', 'Azure Security', 'AWS Simple Storage Service (S3)', 'Meraki', 'Cascading Style Sheets (CSS)', 'Sailpoint'}\n",
      "\n",
      "Comparing 2019-01-01 to 2020-01-01 with 2018-01-01 to 2020-01-01\n",
      "\n",
      "# of skills shared and exclusive to each date (in order)\n",
      "12 44 28\n",
      "\n",
      "The skills themselves:\n",
      "\n",
      "Shared:\n",
      "\n",
      "{'AWS CloudFormation', 'Salesforce Visualforce', 'OpenShift', 'Apex Code', 'Azure Security', 'AWS Simple Storage Service (S3)', 'SAP HANA', 'BigFix', 'Salesforce Lightning', 'Cascading Style Sheets (CSS)', 'Okta', 'Golang (Go Programming Language)'}\n",
      "\n",
      "Exclusive to 2019-01-01 to 2020-01-01\n",
      "\n",
      "{'IBM Cognos', 'Atlassian Bamboo', 'AWS Redshift', 'TeamCity', 'Apache Jmeter', 'Ansible RHEL (Red Hat Enterprise)', 'Hypervisors', 'Heroku', 'SAP Netweaver', 'Solaris', 'Microsoft Office 365', 'Cucumber Software', 'Structured Query Reporter (SQR)', 'SPUFI', 'IBM Rational', 'Oracle E-Business Suite', 'Ubuntu', 'IDMS', 'SAP Basis', 'Fiddler', 'FedRAMP', 'Apache Groovy', 'Adobe Illustrator', 'Apache Flume', 'AWS Elastic Compute Cloud (EC2)', 'Mobile Application Design', 'Amazon DynamoDB', 'MVC Framework', 'Teradata', 'Hyper-V', 'Jenkins', 'Splunk SIEM', 'Microsoft Outlook', 'Salesforce Einstein', 'SAP S/4 Hana, Fiori & UI5 Security', 'Logstash', 'Software Maintenance', 'Amazon Virtual Private Cloud (VPC)', 'MariaDB', 'SAP BusinessObjects', 'IBM Watson', 'Microsoft Access', 'Qlik', 'Microsoft System Center'}\n",
      "\n",
      "Exclusive to 2018-01-01 to 2020-01-01\n",
      "\n",
      "{'Object-Oriented Programming', 'Spring Web Services', 'Apache Spark', 'Apache Impala', 'Object Oriented Development Software', 'VMware Horizon View', 'Salesforce Marketing Cloud', 'Spring Data', 'IBM Cloud', 'Android', 'Web Analytics', 'Spring Framework', 'NumPy', 'Oracle Cloud', 'Adobe Marketing Cloud', 'IaaS Security', 'Keras', 'MuleSoft Anypoint', 'Apigee', 'Visual Basic', 'Salesforce Security', 'CyberArk', 'CentOS', 'AppDynamics', 'Amazon Relational Database Service (RDS)', 'Meraki', 'RabbitMQ', 'Sailpoint'}\n"
     ]
    }
   ],
   "source": [
    "compare_emerging_skill_sets(emerging_prog_skills, start_and_end_dates)"
   ]
  },
  {
   "cell_type": "markdown",
   "metadata": {},
   "source": [
    "The 2018-2020 skills are far less numerous and also generally look more legit (well if we exclude \"Visual Basic\").\n",
    "\n",
    "## Emerged skills\n",
    "Now let's look at the skills that are in a higher popularity bracket."
   ]
  },
  {
   "cell_type": "code",
   "execution_count": 24,
   "metadata": {},
   "outputs": [],
   "source": [
    "above_emerging_spec_skills = [threshold_logsum_trends_simple(specialised_skill_trends[i], \n",
    "                         total = total_values[i], pop_lower=0.01, pop_upper=0.05) \n",
    "                        for i in range(len(specialised_skill_trends))]\n",
    "above_emerging_prog_skills = [threshold_logsum_trends_simple(programming_skill_trends[i], \n",
    "                         total = total_values[i], pop_lower=0.01, pop_upper=0.05)\n",
    "                        for i in range(len(programming_skill_trends))]"
   ]
  },
  {
   "cell_type": "code",
   "execution_count": 25,
   "metadata": {
    "scrolled": true
   },
   "outputs": [
    {
     "name": "stdout",
     "output_type": "stream",
     "text": [
      "\n",
      "Comparing 2018-01-01 to 2019-01-01 with 2019-01-01 to 2020-01-01\n",
      "\n",
      "# of skills shared and exclusive to each date (in order)\n",
      "24 112 33\n",
      "\n",
      "The skills themselves:\n",
      "\n",
      "Shared:\n",
      "\n",
      "{'Application Design', 'Eclipse', 'Artificial Intelligence', 'Docker Software', 'Microsoft Active Directory', 'Prototyping', 'Data Security', 'Systems Development Life Cycle (SDLC)', 'Requirements elicitation', 'Ansible', 'Kubernetes', 'Node.js', 'Microsoft PowerShell', 'Hardware and Software Configuration', 'Teradata DBA', 'Data Architecture', 'Tableau', 'PostgreSQL', 'Atlassian JIRA', 'Client/Server', 'Data Science', 'Procurement', 'Data Migration', 'Business Solutions'}\n",
      "\n",
      "Exclusive to 2018-01-01 to 2019-01-01\n",
      "\n",
      "{'Simulation', 'Requirements Verification and Validation', 'Machine Learning', 'Continuous Integration (CI)', 'Information Assurance', 'Windows Server', 'Salesforce', 'User Interface (UI) Design', 'AngularJS', 'Software Architecture', 'Systems Analysis', 'Network Security', 'Description and Demonstration of Products', 'Process Improvement', 'Authentication', 'Data Management', 'Disaster Recovery Planning', 'Splunk', 'System/Network Configuration', 'MongoDB', 'Solution Architecture', 'Systems Integration', 'Business Systems Analysis', 'System Design', 'Unit Testing', 'Stakeholder Management', 'Web Servers', 'Database Administration', 'Informatica', 'Data Visualization', 'Service Level Agreement', 'Apache Kafka', 'Extraction Transformation and Loading (ETL)', 'Apache Webserver', 'Scalability Design', 'Project Planning and Development Skills', 'jQuery', 'Data Warehousing', 'Training Materials', 'Object-Oriented Analysis and Design (OOAD)', 'Platform as a Service (PaaS)', 'Extensible Markup Language (XML)', 'Waterfall Development Process', 'CSS', 'Performance testing', 'ASP.NET', 'Hardware Troubleshooting', 'Git', 'Professional Services Marketing', 'Lightweight Directory Access Protocol (LDAP)', 'System Architecture', 'Strategic Planning', 'Process Design', 'Software Installation', 'Dynamic Host Configuration Protocol (DHCP)', 'Test Driven Development (TDD)', 'Microsoft Azure', 'Active Server Pages (ASP)', 'Application Support', 'Web Site Design', 'MySQL', 'Database Management', 'NoSQL', 'Software Testing', 'Experiments', 'Red Hat Linux', 'Performance tuning', 'Microsoft Dynamics', 'Web Development', 'UNIX Shell', 'Cloud Computing', 'Root Cause Analysis', 'Troubleshooting Technical Issues', 'Microsoft Project', 'Quality Management', 'Relational Databases', 'AJAX', 'Level design', 'JavaScript Object Notation (JSON)', 'Microsoft Operating Systems', 'Change Management', 'Bash', 'Data Analysis', 'Network Hardware/Software Maintenance', 'Citrix', 'Ruby', 'Lifecycle Management', 'IT Management', 'Data Transformation', 'Business Acumen', 'Microsoft SQL', 'Visual Studio', 'HTML5', 'Chef Infrastructure Automation', 'Product Sales', 'Thought Leadership', 'Technical Assistance', 'Cryptography', 'Web Application Development', 'Business Development', 'ITIL', 'Information Technology Industry Knowledge', 'Hypertext Preprocessor (PHP)', 'Mainframe', 'Microsoft Sharepoint', 'Data Modeling', 'Cisco', 'Red Hat Linux Administration', 'Business Intelligence', 'Microsoft Visio', 'Apache Hadoop', 'React Javascript'}\n",
      "\n",
      "Exclusive to 2019-01-01 to 2020-01-01\n",
      "\n",
      "{'TypeScript', 'Object-Oriented Programming', 'Repair', 'Request for Proposal (RFP)', 'Object Oriented Development Software', 'Microsoft Power BI', 'Business Planning', 'Software Quality Assurance', 'Puppet', 'Performance Appraisals', 'Cloud architecture', 'Internet of Things (IoT)', 'Salesforce Development', 'Confluence', 'Spring Boot', 'Front-end Development', 'Performance Analysis', 'Onboarding', 'Data Structures', 'Oracle PL/SQL', 'Scala', 'Data Integration', 'Product Management', 'Systems Development', 'Performance Analytics', 'Shell Scripting', 'Software as a Service (SaaS)', 'ServiceNow', 'Engineering Documentation', 'Good Clinical Practices (GCP)', 'Amazon Web Services (AWS)', 'GitHub', 'Financial Services Industry Experience'}\n",
      "\n",
      "Comparing 2018-01-01 to 2019-01-01 with 2018-01-01 to 2020-01-01\n",
      "\n",
      "# of skills shared and exclusive to each date (in order)\n",
      "30 106 17\n",
      "\n",
      "The skills themselves:\n",
      "\n",
      "Shared:\n",
      "\n",
      "{'Apache Kafka', 'Experiments', 'Requirements Verification and Validation', 'Artificial Intelligence', 'Docker Software', 'Machine Learning', 'Salesforce', 'Troubleshooting Technical Issues', 'Information Technology Industry Knowledge', 'Data Security', 'Platform as a Service (PaaS)', 'Waterfall Development Process', 'Performance testing', 'Ansible', 'Relational Databases', 'Kubernetes', 'Node.js', 'Splunk', 'MongoDB', 'Teradata DBA', 'Data Transformation', 'Microsoft Azure', 'React Javascript', 'Tableau', 'PostgreSQL', 'Atlassian JIRA', 'Data Science', 'Procurement', 'Data Migration', 'NoSQL'}\n",
      "\n",
      "Exclusive to 2018-01-01 to 2019-01-01\n",
      "\n",
      "{'Simulation', 'Continuous Integration (CI)', 'Information Assurance', 'Windows Server', 'User Interface (UI) Design', 'AngularJS', 'Software Architecture', 'Systems Analysis', 'Network Security', 'Description and Demonstration of Products', 'Process Improvement', 'Authentication', 'Data Management', 'Disaster Recovery Planning', 'System/Network Configuration', 'Hardware and Software Configuration', 'Solution Architecture', 'Systems Integration', 'Business Systems Analysis', 'System Design', 'Unit Testing', 'Data Architecture', 'Stakeholder Management', 'Client/Server', 'Database Administration', 'Web Servers', 'Informatica', 'Data Visualization', 'Service Level Agreement', 'Application Design', 'Extraction Transformation and Loading (ETL)', 'Apache Webserver', 'Scalability Design', 'Project Planning and Development Skills', 'jQuery', 'Data Warehousing', 'Training Materials', 'Object-Oriented Analysis and Design (OOAD)', 'Extensible Markup Language (XML)', 'Systems Development Life Cycle (SDLC)', 'CSS', 'Requirements elicitation', 'ASP.NET', 'Hardware Troubleshooting', 'Git', 'Professional Services Marketing', 'Lightweight Directory Access Protocol (LDAP)', 'System Architecture', 'Strategic Planning', 'Process Design', 'Software Installation', 'Dynamic Host Configuration Protocol (DHCP)', 'Test Driven Development (TDD)', 'Active Server Pages (ASP)', 'Application Support', 'Web Site Design', 'MySQL', 'Database Management', 'Software Testing', 'Eclipse', 'Red Hat Linux', 'Performance tuning', 'Microsoft Dynamics', 'Web Development', 'UNIX Shell', 'Microsoft Active Directory', 'Cloud Computing', 'Prototyping', 'Root Cause Analysis', 'Microsoft Project', 'Quality Management', 'AJAX', 'Level design', 'JavaScript Object Notation (JSON)', 'Microsoft Operating Systems', 'Change Management', 'Bash', 'Data Analysis', 'Network Hardware/Software Maintenance', 'Citrix', 'Ruby', 'Lifecycle Management', 'IT Management', 'Business Acumen', 'Microsoft SQL', 'Visual Studio', 'HTML5', 'Chef Infrastructure Automation', 'Product Sales', 'Thought Leadership', 'Technical Assistance', 'Cryptography', 'Web Application Development', 'Business Development', 'ITIL', 'Hypertext Preprocessor (PHP)', 'Mainframe', 'Microsoft Sharepoint', 'Microsoft PowerShell', 'Data Modeling', 'Cisco', 'Red Hat Linux Administration', 'Business Intelligence', 'Microsoft Visio', 'Apache Hadoop', 'Business Solutions'}\n",
      "\n",
      "Exclusive to 2018-01-01 to 2020-01-01\n",
      "\n",
      "{'Confluence', 'Performance Management', 'Spring Boot', 'Request for Proposal (RFP)', 'Technical Sales', 'Performance & Scalability Design', 'Microsoft Power BI', 'Performance Analysis', 'DNA', 'Swift (Programming Language)', 'Software as a Service (SaaS)', 'Relational DataBase Management System (RDBMS)', 'Data Privacy', 'Cloud architecture', 'GitHub', 'Scala', 'Data Integration'}\n",
      "\n",
      "Comparing 2019-01-01 to 2020-01-01 with 2018-01-01 to 2020-01-01\n",
      "\n",
      "# of skills shared and exclusive to each date (in order)\n",
      "23 34 24\n",
      "\n",
      "The skills themselves:\n",
      "\n",
      "Shared:\n",
      "\n",
      "{'Request for Proposal (RFP)', 'Microsoft Power BI', 'Docker Software', 'Artificial Intelligence', 'Cloud architecture', 'Confluence', 'Spring Boot', 'Performance Analysis', 'Data Security', 'Ansible', 'Kubernetes', 'Scala', 'Node.js', 'Data Integration', 'Software as a Service (SaaS)', 'Teradata DBA', 'Tableau', 'PostgreSQL', 'Atlassian JIRA', 'Data Science', 'GitHub', 'Procurement', 'Data Migration'}\n",
      "\n",
      "Exclusive to 2019-01-01 to 2020-01-01\n",
      "\n",
      "{'TypeScript', 'Object-Oriented Programming', 'Repair', 'Application Design', 'Eclipse', 'Object Oriented Development Software', 'Business Planning', 'Software Quality Assurance', 'Puppet', 'Performance Appraisals', 'Internet of Things (IoT)', 'Salesforce Development', 'Microsoft Active Directory', 'Prototyping', 'Front-end Development', 'Onboarding', 'Data Structures', 'Systems Development Life Cycle (SDLC)', 'Requirements elicitation', 'Oracle PL/SQL', 'Product Management', 'Microsoft PowerShell', 'Systems Development', 'Performance Analytics', 'Shell Scripting', 'Hardware and Software Configuration', 'ServiceNow', 'Engineering Documentation', 'Good Clinical Practices (GCP)', 'Data Architecture', 'Amazon Web Services (AWS)', 'Client/Server', 'Business Solutions', 'Financial Services Industry Experience'}\n",
      "\n",
      "Exclusive to 2018-01-01 to 2020-01-01\n",
      "\n",
      "{'Technical Sales', 'Apache Kafka', 'Experiments', 'Requirements Verification and Validation', 'Data Privacy', 'Machine Learning', 'Salesforce', 'Performance Management', 'Troubleshooting Technical Issues', 'Information Technology Industry Knowledge', 'Platform as a Service (PaaS)', 'Waterfall Development Process', 'Performance testing', 'Relational Databases', 'DNA', 'Splunk', 'Swift (Programming Language)', 'MongoDB', 'Data Transformation', 'Microsoft Azure', 'Performance & Scalability Design', 'React Javascript', 'Relational DataBase Management System (RDBMS)', 'NoSQL'}\n"
     ]
    }
   ],
   "source": [
    "compare_emerging_skill_sets(above_emerging_spec_skills, start_and_end_dates)"
   ]
  },
  {
   "cell_type": "markdown",
   "metadata": {},
   "source": [
    "This has Data Science, NLP, etc. so this is a very reasonable and self-validating sort of set, as opposed to the \"emerging\" skills which are lower in popularity and often more obscure."
   ]
  },
  {
   "cell_type": "code",
   "execution_count": 26,
   "metadata": {
    "scrolled": true
   },
   "outputs": [
    {
     "name": "stdout",
     "output_type": "stream",
     "text": [
      "\n",
      "Comparing 2018-01-01 to 2019-01-01 with 2019-01-01 to 2020-01-01\n",
      "\n",
      "# of skills shared and exclusive to each date (in order)\n",
      "16 52 9\n",
      "\n",
      "The skills themselves:\n",
      "\n",
      "Shared:\n",
      "\n",
      "{'Microsoft PowerShell', 'Application Design', 'Apache Kafka', 'Docker Software', 'Software as a Service (SaaS)', 'React Javascript', 'Teradata DBA', 'Systems Development Life Cycle (SDLC)', 'Tableau', 'Amazon Web Services (AWS)', 'Atlassian JIRA', 'Ansible', 'PostgreSQL', 'Solution Architecture', 'JavaScript Object Notation (JSON)', 'Node.js'}\n",
      "\n",
      "Exclusive to 2018-01-01 to 2019-01-01\n",
      "\n",
      "{'Informatica', 'Data Visualization', 'Eclipse', 'Red Hat Linux', 'Apache Webserver', 'jQuery', 'Virtual Private Networking (VPN)', 'Salesforce', 'UNIX Shell', 'Windows Server', 'Microsoft Windows', 'AngularJS', 'IBM WEBSPHERE', 'Adobe Photoshop', 'Agile Development', 'Systems Analysis', 'Microsoft Project', 'Object-Oriented Analysis and Design (OOAD)', 'Platform as a Service (PaaS)', 'Computer Engineering', 'Extensible Markup Language (XML)', 'Voice over IP (VoIP)', 'CSS', 'Hypertext Preprocessor (PHP)', 'Oracle PL/SQL', 'AJAX', 'Level design', 'Microsoft Sharepoint', 'Microsoft Operating Systems', 'Enterprise Resource Planning (ERP)', 'ASP.NET', 'Bash', 'Git', 'Citrix', 'Splunk', 'Swift (Programming Language)', 'MongoDB', 'Ruby', 'Microsoft Azure', 'Microsoft SQL', 'Active Server Pages (ASP)', 'Microsoft Visio', 'MySQL', 'Apache Hadoop', 'Relational DataBase Management System (RDBMS)', 'Visual Studio', 'HTML5', 'Web Servers', 'Microsoft Access', 'Microsoft Powerpoint', 'NoSQL', 'Software Testing'}\n",
      "\n",
      "Exclusive to 2019-01-01 to 2020-01-01\n",
      "\n",
      "{'Confluence', 'Spring Boot', 'Middleware', 'Object Oriented Development Software', 'Shell Scripting', 'Software Quality Assurance', 'Oracle Cloud', 'GitHub', 'Scala'}\n",
      "\n",
      "Comparing 2018-01-01 to 2019-01-01 with 2018-01-01 to 2020-01-01\n",
      "\n",
      "# of skills shared and exclusive to each date (in order)\n",
      "15 53 3\n",
      "\n",
      "The skills themselves:\n",
      "\n",
      "Shared:\n",
      "\n",
      "{'Apache Kafka', 'JavaScript Object Notation (JSON)', 'Docker Software', 'React Javascript', 'MongoDB', 'Splunk', 'Teradata DBA', 'Tableau', 'PostgreSQL', 'Atlassian JIRA', 'Ansible', 'Microsoft Azure', 'Salesforce', 'Node.js', 'NoSQL'}\n",
      "\n",
      "Exclusive to 2018-01-01 to 2019-01-01\n",
      "\n",
      "{'Informatica', 'Data Visualization', 'Application Design', 'Eclipse', 'Red Hat Linux', 'Apache Webserver', 'jQuery', 'Virtual Private Networking (VPN)', 'UNIX Shell', 'Windows Server', 'Microsoft Windows', 'AngularJS', 'IBM WEBSPHERE', 'Adobe Photoshop', 'Agile Development', 'Systems Analysis', 'Microsoft Project', 'Object-Oriented Analysis and Design (OOAD)', 'Platform as a Service (PaaS)', 'Computer Engineering', 'Extensible Markup Language (XML)', 'Systems Development Life Cycle (SDLC)', 'Voice over IP (VoIP)', 'CSS', 'Hypertext Preprocessor (PHP)', 'Oracle PL/SQL', 'AJAX', 'Level design', 'Microsoft Sharepoint', 'Microsoft Operating Systems', 'Enterprise Resource Planning (ERP)', 'ASP.NET', 'Microsoft PowerShell', 'Bash', 'Git', 'Citrix', 'Swift (Programming Language)', 'Software as a Service (SaaS)', 'Ruby', 'Solution Architecture', 'Microsoft SQL', 'Active Server Pages (ASP)', 'Microsoft Visio', 'MySQL', 'Apache Hadoop', 'Relational DataBase Management System (RDBMS)', 'Visual Studio', 'Amazon Web Services (AWS)', 'HTML5', 'Web Servers', 'Microsoft Access', 'Microsoft Powerpoint', 'Software Testing'}\n",
      "\n",
      "Exclusive to 2018-01-01 to 2020-01-01\n",
      "\n",
      "{'Confluence', 'Spring Boot', 'GitHub'}\n",
      "\n",
      "Comparing 2019-01-01 to 2020-01-01 with 2018-01-01 to 2020-01-01\n",
      "\n",
      "# of skills shared and exclusive to each date (in order)\n",
      "13 12 5\n",
      "\n",
      "The skills themselves:\n",
      "\n",
      "Shared:\n",
      "\n",
      "{'Confluence', 'Spring Boot', 'Apache Kafka', 'Docker Software', 'React Javascript', 'Teradata DBA', 'Tableau', 'PostgreSQL', 'Atlassian JIRA', 'Ansible', 'GitHub', 'JavaScript Object Notation (JSON)', 'Node.js'}\n",
      "\n",
      "Exclusive to 2019-01-01 to 2020-01-01\n",
      "\n",
      "{'Microsoft PowerShell', 'Application Design', 'Middleware', 'Object Oriented Development Software', 'Shell Scripting', 'Software Quality Assurance', 'Oracle Cloud', 'Software as a Service (SaaS)', 'Systems Development Life Cycle (SDLC)', 'Amazon Web Services (AWS)', 'Solution Architecture', 'Scala'}\n",
      "\n",
      "Exclusive to 2018-01-01 to 2020-01-01\n",
      "\n",
      "{'Splunk', 'MongoDB', 'Microsoft Azure', 'Salesforce', 'NoSQL'}\n"
     ]
    }
   ],
   "source": [
    "compare_emerging_skill_sets(above_emerging_prog_skills, start_and_end_dates)"
   ]
  },
  {
   "cell_type": "markdown",
   "metadata": {},
   "source": [
    "Now let's try out our method for a few companies, see how it works:"
   ]
  },
  {
   "cell_type": "code",
   "execution_count": 27,
   "metadata": {},
   "outputs": [
    {
     "data": {
      "text/plain": [
       "array(['Adobe Systems', 'Allscripts', 'Apple Inc.',\n",
       "       'Avanade Incorporated', 'CACI', 'CGI Group', 'Cdw Corporation',\n",
       "       'Ciber Incorporated', 'Computer Aid Incorporated',\n",
       "       'Data Incorporated', 'Ellucian', 'FIS', 'Facebook', 'Fiserv',\n",
       "       'Google Inc.', 'HCL America', 'Inficare Technologies', 'Infosys',\n",
       "       'Intuit', 'Jack Henry & Associates', 'MITRE Corporation',\n",
       "       'Mantech International Corp.', 'Microsoft Corporation',\n",
       "       'NCR Corporation', 'NTT Data', 'Nityo Infotech', 'Oracle',\n",
       "       'Perficient Incorporated', 'SAP', 'Salesforce',\n",
       "       'Sirius Computer Solutions', 'TATA Consultancy Services', 'Unisys',\n",
       "       'VLS Systems', 'Vdart, Inc', 'Viva USA', 'Vmware Incorporated',\n",
       "       'Wipro', 'Workday, Inc', 'Xoriant Incorporated'], dtype=object)"
      ]
     },
     "execution_count": 27,
     "metadata": {},
     "output_type": "execute_result"
    }
   ],
   "source": [
    "skills_df.Company.unique()"
   ]
  },
  {
   "cell_type": "code",
   "execution_count": 28,
   "metadata": {
    "scrolled": true
   },
   "outputs": [
    {
     "name": "stdout",
     "output_type": "stream",
     "text": [
      "Start: 2018-01-01\n",
      "End: 2019-01-01\n",
      "Number of skills: 1398\n",
      "             Slope    Intercept  Acceleration    Spikiness\n",
      "count  1398.000000  1398.000000   1398.000000  1398.000000\n",
      "mean      0.046649    -3.331494      0.365439     4.088359\n",
      "std       0.243655     4.168391      2.371811     6.287097\n",
      "min      -0.710088    -8.356725     -6.753065   -85.334298\n",
      "25%      -0.117194    -6.143582     -0.675390     2.905416\n",
      "50%       0.028322    -4.747029      0.190241     3.306473\n",
      "75%       0.217202    -1.894252      1.856462     4.399859\n",
      "max       2.286112    16.774717      8.781386   197.464137\n",
      "Start: 2019-01-01\n",
      "End: 2020-01-01\n",
      "Number of skills: 1472\n",
      "             Slope    Intercept  Acceleration    Spikiness\n",
      "count  1472.000000  1472.000000   1472.000000  1472.000000\n",
      "mean      0.001684    -3.480091     -0.087738     3.706426\n",
      "std       0.183604     4.041329      1.525305     2.275352\n",
      "min      -1.294457    -7.898365     -5.561899   -16.345711\n",
      "25%      -0.107642    -6.295645     -0.998783     2.671171\n",
      "50%      -0.000215    -4.943516     -0.063031     3.052675\n",
      "75%       0.109264    -2.165323      0.718451     3.979944\n",
      "max       0.857020    16.631523      4.789039    43.298074\n",
      "Start: 2018-01-01\n",
      "End: 2020-01-01\n",
      "Number of skills: 1727\n",
      "             Slope    Intercept  Acceleration    Spikiness\n",
      "count  1727.000000  1727.000000   1727.000000  1727.000000\n",
      "mean     -0.004324    -3.884144     -0.137393     4.123346\n",
      "std       0.074907     4.262867      0.662433     2.269859\n",
      "min      -0.293521    -7.988007     -2.951622     2.127898\n",
      "25%      -0.048608    -6.735818     -0.571605     2.884056\n",
      "50%      -0.000649    -5.569343     -0.136473     3.228872\n",
      "75%       0.044921    -2.798626      0.272137     4.376283\n",
      "max       0.271156    17.341819      2.204713    26.875532\n"
     ]
    }
   ],
   "source": [
    "set_of_companies = ['Facebook', 'Google Inc.', 'Microsoft Corporation', 'Apple Inc.']\n",
    "companies_skills = get_set_of_companies(skills_df, set_of_companies)\n",
    "companies_specialised_skill_trends = [logsum_trend_slope_wrapper(companies_skills, \n",
    "                                                  start_and_end_dates[i][0], start_and_end_dates[i][1],\n",
    "                                                  compute_total_log_mean(\n",
    "                                              companies_skills)) \n",
    "                                      for i in range(len(start_and_end_dates))]"
   ]
  },
  {
   "cell_type": "code",
   "execution_count": 29,
   "metadata": {},
   "outputs": [],
   "source": [
    "companies_emerging_spec_skills = [threshold_logsum_trends_simple(\n",
    "        companies_specialised_skill_trends[i],\n",
    "    total=get_period_of_time(compute_total_values(companies_skills),\n",
    "                                                    start_and_end_dates[i][0], start_and_end_dates[i][1]).sum()[0])\n",
    "                        for i in range(len(companies_specialised_skill_trends))]"
   ]
  },
  {
   "cell_type": "code",
   "execution_count": 30,
   "metadata": {},
   "outputs": [
    {
     "name": "stdout",
     "output_type": "stream",
     "text": [
      "{'Strategic Partnerships', 'Cloud Foundry', 'SAP HANA', 'Business Requirements Documentation', 'SAP Netweaver', 'Online Analytical Processing (OLAP)', 'Jetty (Web Server)', 'OpenShift', 'TOGAF', 'Enterprise Software', 'Oauth', 'Psychology', 'API Management', 'CentOS', 'Data Encryption', 'Linux Scripting', 'Case Management', 'PCI DSS', 'Go-to-market Strategy'}\n",
      "19 81 152\n",
      "{'Teradata', 'Capacity Management', 'Business Management', 'Packaging', 'Construction Management', 'Strategic Planning', 'AWS Redshift', 'Azure Security', 'Risk and Mitigation Analysis', 'Needs Assessment', 'Cost Control', 'Graphic Design', 'Qlik', 'Service Improvement'}\n",
      "14 75 158\n",
      "{'Scenario testing', 'Microservice', 'API Management', 'Reliability Engineering Studies', 'Cluster Analysis', 'Business-to-Business', 'Sales Strategy', 'Prospective Clients', 'Threat Intelligence and Analysis', 'Hardware Support', 'Enterprise Sales'}\n",
      "11 70 141\n"
     ]
    },
    {
     "data": {
      "text/plain": [
       "[(0.2345679012345679, 0.125, 0.1630901287553648),\n",
       " (0.18666666666666668, 0.08860759493670886, 0.12017167381974249),\n",
       " (0.15714285714285714, 0.07801418439716312, 0.10426540284360189)]"
      ]
     },
     "execution_count": 30,
     "metadata": {},
     "output_type": "execute_result"
    }
   ],
   "source": [
    "[compute_prec_recall(companies_emerging_spec_skills[i], emerging_spec_skills[i]) \n",
    "                     for i in range(len(companies_emerging_spec_skills))]"
   ]
  },
  {
   "cell_type": "code",
   "execution_count": 73,
   "metadata": {},
   "outputs": [
    {
     "data": {
      "image/png": "[encoded data removed]",
      "text/plain": [
       "<Figure size 432x288 with 1 Axes>"
      ]
     },
     "metadata": {
      "needs_background": "light"
     },
     "output_type": "display_data"
    }
   ],
   "source": [
    "skills_df[['Skill', 'Job Postings Raw']].groupby('Skill').sum().\\\n",
    "                        hist(bins = np.logspace(np.log(1), np.log(80000), 200))\n",
    "plt.yscale('log')\n",
    "plt.xscale('log')"
   ]
  },
  {
   "cell_type": "code",
   "execution_count": 32,
   "metadata": {},
   "outputs": [
    {
     "data": {
      "image/png": "[encoded data removed]",
      "text/plain": [
       "<Figure size 432x288 with 1 Axes>"
      ]
     },
     "metadata": {
      "needs_background": "light"
     },
     "output_type": "display_data"
    }
   ],
   "source": [
    "skills_df[['Skill', 'Job Postings Raw']].groupby('Skill').sum().\\\n",
    "                        hist(bins = 100)\n",
    "plt.yscale('log')"
   ]
  },
  {
   "cell_type": "code",
   "execution_count": 65,
   "metadata": {},
   "outputs": [
    {
     "data": {
      "text/html": [
       "<div>\n",
       "<style scoped>\n",
       "    .dataframe tbody tr th:only-of-type {\n",
       "        vertical-align: middle;\n",
       "    }\n",
       "\n",
       "    .dataframe tbody tr th {\n",
       "        vertical-align: top;\n",
       "    }\n",
       "\n",
       "    .dataframe thead th {\n",
       "        text-align: right;\n",
       "    }\n",
       "</style>\n",
       "<table border=\"1\" class=\"dataframe\">\n",
       "  <thead>\n",
       "    <tr style=\"text-align: right;\">\n",
       "      <th></th>\n",
       "      <th>Job Postings Raw</th>\n",
       "    </tr>\n",
       "  </thead>\n",
       "  <tbody>\n",
       "    <tr>\n",
       "      <td>count</td>\n",
       "      <td>4130.000000</td>\n",
       "    </tr>\n",
       "    <tr>\n",
       "      <td>mean</td>\n",
       "      <td>799.968523</td>\n",
       "    </tr>\n",
       "    <tr>\n",
       "      <td>std</td>\n",
       "      <td>3173.388790</td>\n",
       "    </tr>\n",
       "    <tr>\n",
       "      <td>min</td>\n",
       "      <td>1.000000</td>\n",
       "    </tr>\n",
       "    <tr>\n",
       "      <td>25%</td>\n",
       "      <td>7.000000</td>\n",
       "    </tr>\n",
       "    <tr>\n",
       "      <td>50%</td>\n",
       "      <td>41.000000</td>\n",
       "    </tr>\n",
       "    <tr>\n",
       "      <td>75%</td>\n",
       "      <td>309.500000</td>\n",
       "    </tr>\n",
       "    <tr>\n",
       "      <td>max</td>\n",
       "      <td>70347.000000</td>\n",
       "    </tr>\n",
       "  </tbody>\n",
       "</table>\n",
       "</div>"
      ],
      "text/plain": [
       "       Job Postings Raw\n",
       "count       4130.000000\n",
       "mean         799.968523\n",
       "std         3173.388790\n",
       "min            1.000000\n",
       "25%            7.000000\n",
       "50%           41.000000\n",
       "75%          309.500000\n",
       "max        70347.000000"
      ]
     },
     "execution_count": 65,
     "metadata": {},
     "output_type": "execute_result"
    }
   ],
   "source": [
    "skills_df[['Skill', 'Job Postings Raw']].groupby('Skill').sum().describe()"
   ]
  },
  {
   "cell_type": "code",
   "execution_count": 34,
   "metadata": {},
   "outputs": [
    {
     "data": {
      "text/html": [
       "<div>\n",
       "<style scoped>\n",
       "    .dataframe tbody tr th:only-of-type {\n",
       "        vertical-align: middle;\n",
       "    }\n",
       "\n",
       "    .dataframe tbody tr th {\n",
       "        vertical-align: top;\n",
       "    }\n",
       "\n",
       "    .dataframe thead th {\n",
       "        text-align: right;\n",
       "    }\n",
       "</style>\n",
       "<table border=\"1\" class=\"dataframe\">\n",
       "  <thead>\n",
       "    <tr style=\"text-align: right;\">\n",
       "      <th></th>\n",
       "      <th>Job Postings Raw</th>\n",
       "    </tr>\n",
       "    <tr>\n",
       "      <th>Skill</th>\n",
       "      <th></th>\n",
       "    </tr>\n",
       "  </thead>\n",
       "  <tbody>\n",
       "    <tr>\n",
       "      <td>.NET</td>\n",
       "      <td>15394</td>\n",
       "    </tr>\n",
       "    <tr>\n",
       "      <td>21 CFR Part 11</td>\n",
       "      <td>11</td>\n",
       "    </tr>\n",
       "    <tr>\n",
       "      <td>3D Animation</td>\n",
       "      <td>378</td>\n",
       "    </tr>\n",
       "    <tr>\n",
       "      <td>3D Modeling / Design</td>\n",
       "      <td>35</td>\n",
       "    </tr>\n",
       "    <tr>\n",
       "      <td>3D Printing / Additive Manufacturing (AM)</td>\n",
       "      <td>8</td>\n",
       "    </tr>\n",
       "    <tr>\n",
       "      <td>...</td>\n",
       "      <td>...</td>\n",
       "    </tr>\n",
       "    <tr>\n",
       "      <td>trigonometry</td>\n",
       "      <td>11</td>\n",
       "    </tr>\n",
       "    <tr>\n",
       "      <td>uPerform</td>\n",
       "      <td>8</td>\n",
       "    </tr>\n",
       "    <tr>\n",
       "      <td>virtual sales</td>\n",
       "      <td>10</td>\n",
       "    </tr>\n",
       "    <tr>\n",
       "      <td>web authoring tools</td>\n",
       "      <td>5</td>\n",
       "    </tr>\n",
       "    <tr>\n",
       "      <td>webMethods</td>\n",
       "      <td>319</td>\n",
       "    </tr>\n",
       "  </tbody>\n",
       "</table>\n",
       "<p>4130 rows × 1 columns</p>\n",
       "</div>"
      ],
      "text/plain": [
       "                                           Job Postings Raw\n",
       "Skill                                                      \n",
       ".NET                                                  15394\n",
       "21 CFR Part 11                                           11\n",
       "3D Animation                                            378\n",
       "3D Modeling / Design                                     35\n",
       "3D Printing / Additive Manufacturing (AM)                 8\n",
       "...                                                     ...\n",
       "trigonometry                                             11\n",
       "uPerform                                                  8\n",
       "virtual sales                                            10\n",
       "web authoring tools                                       5\n",
       "webMethods                                              319\n",
       "\n",
       "[4130 rows x 1 columns]"
      ]
     },
     "execution_count": 34,
     "metadata": {},
     "output_type": "execute_result"
    }
   ],
   "source": [
    "skills_df[['Skill', 'Job Postings Raw']].groupby('Skill').sum()"
   ]
  },
  {
   "cell_type": "code",
   "execution_count": 230,
   "metadata": {},
   "outputs": [
    {
     "data": {
      "text/plain": [
       "16"
      ]
     },
     "execution_count": 230,
     "metadata": {},
     "output_type": "execute_result"
    }
   ],
   "source": [
    "(specialised_skill_trends[0].Slope > 2.5).sum()"
   ]
  },
  {
   "cell_type": "code",
   "execution_count": 35,
   "metadata": {},
   "outputs": [
    {
     "data": {
      "text/plain": [
       "<matplotlib.axes._subplots.AxesSubplot at 0x1a1f11ab00>"
      ]
     },
     "execution_count": 35,
     "metadata": {},
     "output_type": "execute_result"
    },
    {
     "data": {
      "image/png": "[encoded data removed]",
      "text/plain": [
       "<Figure size 432x288 with 1 Axes>"
      ]
     },
     "metadata": {
      "needs_background": "light"
     },
     "output_type": "display_data"
    }
   ],
   "source": [
    "specialised_skill_trends[0].Slope.hist(bins=200)"
   ]
  },
  {
   "cell_type": "code",
   "execution_count": 36,
   "metadata": {},
   "outputs": [
    {
     "data": {
      "text/plain": [
       "<matplotlib.axes._subplots.AxesSubplot at 0x1a1e6cc3c8>"
      ]
     },
     "execution_count": 36,
     "metadata": {},
     "output_type": "execute_result"
    },
    {
     "data": {
      "image/png": "[encoded data removed]",
      "text/plain": [
       "<Figure size 432x288 with 1 Axes>"
      ]
     },
     "metadata": {
      "needs_background": "light"
     },
     "output_type": "display_data"
    }
   ],
   "source": [
    "specialised_skill_trends[1].Slope.hist(bins=200)"
   ]
  },
  {
   "cell_type": "code",
   "execution_count": 37,
   "metadata": {},
   "outputs": [
    {
     "data": {
      "text/plain": [
       "<matplotlib.axes._subplots.AxesSubplot at 0x1a20900898>"
      ]
     },
     "execution_count": 37,
     "metadata": {},
     "output_type": "execute_result"
    },
    {
     "data": {
      "image/png": "[encoded data removed]",
      "text/plain": [
       "<Figure size 432x288 with 1 Axes>"
      ]
     },
     "metadata": {
      "needs_background": "light"
     },
     "output_type": "display_data"
    }
   ],
   "source": [
    "specialised_skill_trends[2].Slope.hist(bins=200)"
   ]
  },
  {
   "cell_type": "code",
   "execution_count": 41,
   "metadata": {},
   "outputs": [
    {
     "data": {
      "text/html": [
       "<div>\n",
       "<style scoped>\n",
       "    .dataframe tbody tr th:only-of-type {\n",
       "        vertical-align: middle;\n",
       "    }\n",
       "\n",
       "    .dataframe tbody tr th {\n",
       "        vertical-align: top;\n",
       "    }\n",
       "\n",
       "    .dataframe thead th {\n",
       "        text-align: right;\n",
       "    }\n",
       "</style>\n",
       "<table border=\"1\" class=\"dataframe\">\n",
       "  <thead>\n",
       "    <tr style=\"text-align: right;\">\n",
       "      <th></th>\n",
       "      <th>Slope</th>\n",
       "      <th>Intercept</th>\n",
       "      <th>Acceleration</th>\n",
       "      <th>Spikiness</th>\n",
       "      <th>Job Postings Raw</th>\n",
       "    </tr>\n",
       "    <tr>\n",
       "      <th>Skill</th>\n",
       "      <th></th>\n",
       "      <th></th>\n",
       "      <th></th>\n",
       "      <th></th>\n",
       "      <th></th>\n",
       "    </tr>\n",
       "  </thead>\n",
       "  <tbody>\n",
       "    <tr>\n",
       "      <td>.NET</td>\n",
       "      <td>0.992229</td>\n",
       "      <td>105.956945</td>\n",
       "      <td>216.210407</td>\n",
       "      <td>2.175408</td>\n",
       "      <td>9161</td>\n",
       "    </tr>\n",
       "    <tr>\n",
       "      <td>AJAX</td>\n",
       "      <td>1.269027</td>\n",
       "      <td>78.097940</td>\n",
       "      <td>211.021594</td>\n",
       "      <td>2.501387</td>\n",
       "      <td>2818</td>\n",
       "    </tr>\n",
       "    <tr>\n",
       "      <td>API Management</td>\n",
       "      <td>2.179102</td>\n",
       "      <td>22.458107</td>\n",
       "      <td>118.087123</td>\n",
       "      <td>3.280725</td>\n",
       "      <td>928</td>\n",
       "    </tr>\n",
       "    <tr>\n",
       "      <td>ASP.NET</td>\n",
       "      <td>1.513084</td>\n",
       "      <td>77.759461</td>\n",
       "      <td>251.437842</td>\n",
       "      <td>2.235552</td>\n",
       "      <td>4293</td>\n",
       "    </tr>\n",
       "    <tr>\n",
       "      <td>ASP.NET MVC</td>\n",
       "      <td>1.407182</td>\n",
       "      <td>37.648418</td>\n",
       "      <td>119.922441</td>\n",
       "      <td>2.738591</td>\n",
       "      <td>1110</td>\n",
       "    </tr>\n",
       "    <tr>\n",
       "      <td>...</td>\n",
       "      <td>...</td>\n",
       "      <td>...</td>\n",
       "      <td>...</td>\n",
       "      <td>...</td>\n",
       "      <td>...</td>\n",
       "    </tr>\n",
       "    <tr>\n",
       "      <td>Web Site Design</td>\n",
       "      <td>1.931688</td>\n",
       "      <td>49.513937</td>\n",
       "      <td>232.810479</td>\n",
       "      <td>2.764877</td>\n",
       "      <td>1934</td>\n",
       "    </tr>\n",
       "    <tr>\n",
       "      <td>Wide Area Network (WAN)</td>\n",
       "      <td>0.786898</td>\n",
       "      <td>78.508558</td>\n",
       "      <td>130.556795</td>\n",
       "      <td>2.212336</td>\n",
       "      <td>4315</td>\n",
       "    </tr>\n",
       "    <tr>\n",
       "      <td>Windows Server</td>\n",
       "      <td>1.925023</td>\n",
       "      <td>73.865208</td>\n",
       "      <td>318.555964</td>\n",
       "      <td>2.505009</td>\n",
       "      <td>4687</td>\n",
       "    </tr>\n",
       "    <tr>\n",
       "      <td>Wireless Local Area Network (LAN)</td>\n",
       "      <td>0.759341</td>\n",
       "      <td>-2.195215</td>\n",
       "      <td>2.738828</td>\n",
       "      <td>5.766219</td>\n",
       "      <td>86</td>\n",
       "    </tr>\n",
       "    <tr>\n",
       "      <td>jQuery</td>\n",
       "      <td>0.837899</td>\n",
       "      <td>103.451620</td>\n",
       "      <td>174.847977</td>\n",
       "      <td>2.143591</td>\n",
       "      <td>5504</td>\n",
       "    </tr>\n",
       "  </tbody>\n",
       "</table>\n",
       "<p>393 rows × 5 columns</p>\n",
       "</div>"
      ],
      "text/plain": [
       "                                      Slope   Intercept  Acceleration  \\\n",
       "Skill                                                                   \n",
       ".NET                               0.992229  105.956945    216.210407   \n",
       "AJAX                               1.269027   78.097940    211.021594   \n",
       "API Management                     2.179102   22.458107    118.087123   \n",
       "ASP.NET                            1.513084   77.759461    251.437842   \n",
       "ASP.NET MVC                        1.407182   37.648418    119.922441   \n",
       "...                                     ...         ...           ...   \n",
       "Web Site Design                    1.931688   49.513937    232.810479   \n",
       "Wide Area Network (WAN)            0.786898   78.508558    130.556795   \n",
       "Windows Server                     1.925023   73.865208    318.555964   \n",
       "Wireless Local Area Network (LAN)  0.759341   -2.195215      2.738828   \n",
       "jQuery                             0.837899  103.451620    174.847977   \n",
       "\n",
       "                                   Spikiness  Job Postings Raw  \n",
       "Skill                                                           \n",
       ".NET                                2.175408              9161  \n",
       "AJAX                                2.501387              2818  \n",
       "API Management                      3.280725               928  \n",
       "ASP.NET                             2.235552              4293  \n",
       "ASP.NET MVC                         2.738591              1110  \n",
       "...                                      ...               ...  \n",
       "Web Site Design                     2.764877              1934  \n",
       "Wide Area Network (WAN)             2.212336              4315  \n",
       "Windows Server                      2.505009              4687  \n",
       "Wireless Local Area Network (LAN)   5.766219                86  \n",
       "jQuery                              2.143591              5504  \n",
       "\n",
       "[393 rows x 5 columns]"
      ]
     },
     "execution_count": 41,
     "metadata": {},
     "output_type": "execute_result"
    }
   ],
   "source": [
    "specialised_skill_trends[0].loc[specialised_skill_trends[0].Slope >= specialised_skill_trends[0].Slope.mean() + \n",
    "                             specialised_skill_trends[0].Slope.std()]"
   ]
  },
  {
   "cell_type": "code",
   "execution_count": 42,
   "metadata": {},
   "outputs": [
    {
     "data": {
      "text/plain": [
       "0.7174520211775959"
      ]
     },
     "execution_count": 42,
     "metadata": {},
     "output_type": "execute_result"
    }
   ],
   "source": [
    "specialised_skill_trends[0].Slope.mean() + specialised_skill_trends[0].Slope.std()"
   ]
  },
  {
   "cell_type": "code",
   "execution_count": 252,
   "metadata": {},
   "outputs": [
    {
     "data": {
      "text/plain": [
       "1.827112060822452"
      ]
     },
     "execution_count": 252,
     "metadata": {},
     "output_type": "execute_result"
    }
   ],
   "source": [
    "specialised_skill_trends[0].Slope.mean() + 3 * specialised_skill_trends[0].Slope.std()"
   ]
  },
  {
   "cell_type": "code",
   "execution_count": 46,
   "metadata": {},
   "outputs": [
    {
     "data": {
      "text/plain": [
       "0.7737881504504787"
      ]
     },
     "execution_count": 46,
     "metadata": {},
     "output_type": "execute_result"
    }
   ],
   "source": [
    "specialised_skill_trends[0].Slope.quantile(0.90)"
   ]
  },
  {
   "cell_type": "code",
   "execution_count": 76,
   "metadata": {},
   "outputs": [],
   "source": [
    "from scipy.stats import shapiro, anderson, probplot\n",
    "from scipy import stats"
   ]
  },
  {
   "cell_type": "code",
   "execution_count": 225,
   "metadata": {},
   "outputs": [
    {
     "data": {
      "text/plain": [
       "AndersonResult(statistic=185.9473032996366, critical_values=array([0.575, 0.655, 0.786, 0.917, 1.091]), significance_level=array([15. , 10. ,  5. ,  2.5,  1. ]))"
      ]
     },
     "execution_count": 225,
     "metadata": {},
     "output_type": "execute_result"
    }
   ],
   "source": [
    "anderson(specialised_skill_trends[0].Slope.values, dist='norm')"
   ]
  },
  {
   "cell_type": "code",
   "execution_count": 288,
   "metadata": {},
   "outputs": [],
   "source": [
    "def normalise_list(l, remove_thresh=2):\n",
    "    l = np.array([x for x in l if abs(x) < remove_thresh])\n",
    "    return l"
   ]
  },
  {
   "cell_type": "code",
   "execution_count": 289,
   "metadata": {},
   "outputs": [
    {
     "data": {
      "text/plain": [
       "((array([-7.998998  , -7.11220876, -6.64574035, ...,  6.64574035,\n",
       "          7.11220876,  7.998998  ]),\n",
       "  array([-1.08509714, -0.9693574 , -0.96021708, ...,  1.5224305 ,\n",
       "          1.55028194,  1.60377516])),\n",
       " (0.13058690768656464, -0.007846230226767212, 0.9691176895524218))"
      ]
     },
     "execution_count": 289,
     "metadata": {},
     "output_type": "execute_result"
    },
    {
     "data": {
      "image/png": "[encoded data removed]",
      "text/plain": [
       "<Figure size 432x288 with 1 Axes>"
      ]
     },
     "metadata": {
      "needs_background": "light"
     },
     "output_type": "display_data"
    }
   ],
   "source": [
    "probplot(normalise_list(specialised_skill_trends[2].Slope.values), dist=stats.laplace, \n",
    "         sparams=(), fit=True, plot=plt)"
   ]
  },
  {
   "cell_type": "code",
   "execution_count": 290,
   "metadata": {},
   "outputs": [
    {
     "data": {
      "text/plain": [
       "((array([-7.83825914, -6.95147068, -6.48500226, ...,  6.48500226,\n",
       "          6.95147068,  7.83825914]),\n",
       "  array([-1.59005225, -1.54081844, -1.48729634, ...,  1.98502453,\n",
       "          1.98509931,  1.98794003])),\n",
       " (0.31781985479097297, 0.128614178510036, 0.961677827882973))"
      ]
     },
     "execution_count": 290,
     "metadata": {},
     "output_type": "execute_result"
    },
    {
     "data": {
      "image/png": "[encoded data removed]",
      "text/plain": [
       "<Figure size 432x288 with 1 Axes>"
      ]
     },
     "metadata": {
      "needs_background": "light"
     },
     "output_type": "display_data"
    }
   ],
   "source": [
    "probplot(normalise_list(specialised_skill_trends[0].Slope.values), dist=stats.laplace, \n",
    "         sparams=(), fit=True, plot=plt)"
   ]
  },
  {
   "cell_type": "code",
   "execution_count": 291,
   "metadata": {},
   "outputs": [
    {
     "data": {
      "text/plain": [
       "((array([-7.85881255, -6.97202398, -6.50555557, ...,  6.50555557,\n",
       "          6.97202398,  7.85881255]),\n",
       "  array([-1.85883118, -1.85837776, -1.59774471, ...,  1.73353807,\n",
       "          1.77987776,  1.78869642])),\n",
       " (0.2685434669043494, 0.010779332393429819, 0.9950299823006169))"
      ]
     },
     "execution_count": 291,
     "metadata": {},
     "output_type": "execute_result"
    },
    {
     "data": {
      "image/png": "[encoded data removed]",
      "text/plain": [
       "<Figure size 432x288 with 1 Axes>"
      ]
     },
     "metadata": {
      "needs_background": "light"
     },
     "output_type": "display_data"
    }
   ],
   "source": [
    "probplot(normalise_list(specialised_skill_trends[1].Slope.values), dist=stats.laplace, \n",
    "         sparams=(), fit=True, plot=plt)"
   ]
  },
  {
   "cell_type": "code",
   "execution_count": 277,
   "metadata": {},
   "outputs": [
    {
     "data": {
      "text/plain": [
       "((array([-0.24225379, -0.21197144, -0.19487864, ...,  3.36850546,\n",
       "          3.49501875,  3.72503429]),\n",
       "  array([-3.43399237, -3.33674848, -3.23103462, ...,  4.50077507,\n",
       "          4.56101301,  4.63501019])),\n",
       " (1.5863597164359822, -1.2592416973087588, 0.9635928138732414))"
      ]
     },
     "execution_count": 277,
     "metadata": {},
     "output_type": "execute_result"
    },
    {
     "data": {
      "image/png": "[encoded data removed]",
      "text/plain": [
       "<Figure size 432x288 with 1 Axes>"
      ]
     },
     "metadata": {
      "needs_background": "light"
     },
     "output_type": "display_data"
    }
   ],
   "source": [
    "probplot(normalise_list(specialised_skill_trends[0].Slope.values), dist=stats.skewnorm, \n",
    "         sparams=(10), fit=True, plot=plt)"
   ]
  },
  {
   "cell_type": "code",
   "execution_count": 278,
   "metadata": {},
   "outputs": [
    {
     "data": {
      "text/plain": [
       "((array([-0.24261103, -0.21236145, -0.1952895 , ...,  3.37151674,\n",
       "          3.49793437,  3.72779007]),\n",
       "  array([-4.91318068, -4.91198915, -4.22706721, ...,  4.52726646,\n",
       "          4.6490433 ,  4.672218  ])),\n",
       " (1.545816095697604, -1.2270604930229143, 0.9389744449135157))"
      ]
     },
     "execution_count": 278,
     "metadata": {},
     "output_type": "execute_result"
    },
    {
     "data": {
      "image/png": "[encoded data removed]",
      "text/plain": [
       "<Figure size 432x288 with 1 Axes>"
      ]
     },
     "metadata": {
      "needs_background": "light"
     },
     "output_type": "display_data"
    }
   ],
   "source": [
    "probplot(normalise_list(specialised_skill_trends[1].Slope.values), dist=stats.skewnorm, \n",
    "         sparams=(10), fit=True, plot=plt)"
   ]
  },
  {
   "cell_type": "code",
   "execution_count": 358,
   "metadata": {},
   "outputs": [
    {
     "data": {
      "text/plain": [
       "((array([-43.96137592, -37.01508699, -33.53690858, ...,  33.53690858,\n",
       "          37.01508699,  43.96137592]),\n",
       "  array([-1.08509714, -0.9693574 , -0.96021708, ...,  1.5224305 ,\n",
       "          1.55028194,  1.60377516])),\n",
       " (0.03691439859749248, -0.007846230226767222, 0.9931946274924092))"
      ]
     },
     "execution_count": 358,
     "metadata": {},
     "output_type": "execute_result"
    },
    {
     "data": {
      "image/png": "[encoded data removed]",
      "text/plain": [
       "<Figure size 432x288 with 1 Axes>"
      ]
     },
     "metadata": {
      "needs_background": "light"
     },
     "output_type": "display_data"
    }
   ],
   "source": [
    "probplot(normalise_list(specialised_skill_trends[2].Slope.values), dist=stats.gennorm, \n",
    "         sparams=(0.6), fit=True, plot=plt)"
   ]
  },
  {
   "cell_type": "code",
   "execution_count": 296,
   "metadata": {},
   "outputs": [
    {
     "data": {
      "text/plain": [
       "((array([-7.85881255, -6.97202398, -6.50555557, ...,  6.50555557,\n",
       "          6.97202398,  7.85881255]),\n",
       "  array([-1.85883118, -1.85837776, -1.59774471, ...,  1.73353807,\n",
       "          1.77987776,  1.78869642])),\n",
       " (0.26854346690434927, 0.010779332393429836, 0.9950299823006166))"
      ]
     },
     "execution_count": 296,
     "metadata": {},
     "output_type": "execute_result"
    },
    {
     "data": {
      "image/png": "[encoded data removed]",
      "text/plain": [
       "<Figure size 432x288 with 1 Axes>"
      ]
     },
     "metadata": {
      "needs_background": "light"
     },
     "output_type": "display_data"
    }
   ],
   "source": [
    "probplot(normalise_list(specialised_skill_trends[1].Slope.values), dist=stats.gennorm, \n",
    "         sparams=(1), fit=True, plot=plt)"
   ]
  },
  {
   "cell_type": "code",
   "execution_count": 317,
   "metadata": {},
   "outputs": [
    {
     "data": {
      "text/plain": [
       "((array([-3.60730796, -3.30316997, -3.13818318, ...,  3.13818318,\n",
       "          3.30316997,  3.60730796]),\n",
       "  array([-1.59005225, -1.54081844, -1.48729634, ...,  1.98502453,\n",
       "          1.98509931,  1.98794003])),\n",
       " (0.5178061954996652, 0.12861417851003606, 0.9536144205681003))"
      ]
     },
     "execution_count": 317,
     "metadata": {},
     "output_type": "execute_result"
    },
    {
     "data": {
      "image/png": "[encoded data removed]",
      "text/plain": [
       "<Figure size 432x288 with 1 Axes>"
      ]
     },
     "metadata": {
      "needs_background": "light"
     },
     "output_type": "display_data"
    }
   ],
   "source": [
    "probplot(normalise_list(specialised_skill_trends[0].Slope.values), dist=stats.gennorm, \n",
    "         sparams=(1.5), fit=True, plot=plt)"
   ]
  },
  {
   "cell_type": "code",
   "execution_count": 399,
   "metadata": {},
   "outputs": [
    {
     "data": {
      "text/plain": [
       "((array([1.29602605e-02, 2.01943387e-02, 2.55020212e-02, ...,\n",
       "         3.92125781e+01, 4.95188289e+01, 7.71589428e+01]),\n",
       "  array([    1,     1,     1, ..., 38984, 39538, 45870])),\n",
       " (1016.1329102430302, -826.7016770330932, 0.9432407028905391))"
      ]
     },
     "execution_count": 399,
     "metadata": {},
     "output_type": "execute_result"
    },
    {
     "data": {
      "image/png": "[encoded data removed]",
      "text/plain": [
       "<Figure size 432x288 with 1 Axes>"
      ]
     },
     "metadata": {
      "needs_background": "light"
     },
     "output_type": "display_data"
    }
   ],
   "source": [
    "probplot(normalise_list(skills_df[['Skill', 'Job Postings Raw']].groupby('Skill').sum()['Job Postings Raw'].values,\n",
    "                       remove_thresh=50000), \n",
    "         dist=stats.fisk, \n",
    "         sparams=(2), fit=True, plot=plt)"
   ]
  },
  {
   "cell_type": "code",
   "execution_count": null,
   "metadata": {},
   "outputs": [],
   "source": []
  }
 ],
 "metadata": {
  "kernelspec": {
   "display_name": "Python 3",
   "language": "python",
   "name": "python3"
  },
  "language_info": {
   "codemirror_mode": {
    "name": "ipython",
    "version": 3
   },
   "file_extension": ".py",
   "mimetype": "text/x-python",
   "name": "python",
   "nbconvert_exporter": "python",
   "pygments_lexer": "ipython3",
   "version": "3.7.1"
  }
 },
 "nbformat": 4,
 "nbformat_minor": 2
}
